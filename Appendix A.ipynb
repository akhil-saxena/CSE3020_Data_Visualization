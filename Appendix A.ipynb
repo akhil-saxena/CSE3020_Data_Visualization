{
 "cells": [
  {
   "cell_type": "markdown",
   "metadata": {},
   "source": [
    "# CSE3020: Data Visualization\n"
   ]
  },
  {
   "cell_type": "markdown",
   "metadata": {},
   "source": [
    "## **Dataset 1:**  Patient Precondition Dataset"
   ]
  },
  {
   "cell_type": "code",
   "execution_count": 5,
   "metadata": {},
   "outputs": [],
   "source": [
    "import numpy as np\n",
    "import pandas as pd\n",
    "import seaborn as sns"
   ]
  },
  {
   "cell_type": "code",
   "execution_count": 6,
   "metadata": {},
   "outputs": [],
   "source": [
    "df=pd.read_csv(\"covid.csv\")"
   ]
  },
  {
   "cell_type": "code",
   "execution_count": 7,
   "metadata": {},
   "outputs": [
    {
     "data": {
      "text/html": [
       "<div>\n",
       "<style scoped>\n",
       "    .dataframe tbody tr th:only-of-type {\n",
       "        vertical-align: middle;\n",
       "    }\n",
       "\n",
       "    .dataframe tbody tr th {\n",
       "        vertical-align: top;\n",
       "    }\n",
       "\n",
       "    .dataframe thead th {\n",
       "        text-align: right;\n",
       "    }\n",
       "</style>\n",
       "<table border=\"1\" class=\"dataframe\">\n",
       "  <thead>\n",
       "    <tr style=\"text-align: right;\">\n",
       "      <th></th>\n",
       "      <th>id</th>\n",
       "      <th>sex</th>\n",
       "      <th>patient_type</th>\n",
       "      <th>entry_date</th>\n",
       "      <th>date_symptoms</th>\n",
       "      <th>date_died</th>\n",
       "      <th>intubed</th>\n",
       "      <th>pneumonia</th>\n",
       "      <th>age</th>\n",
       "      <th>pregnancy</th>\n",
       "      <th>...</th>\n",
       "      <th>inmsupr</th>\n",
       "      <th>hypertension</th>\n",
       "      <th>other_disease</th>\n",
       "      <th>cardiovascular</th>\n",
       "      <th>obesity</th>\n",
       "      <th>renal_chronic</th>\n",
       "      <th>tobacco</th>\n",
       "      <th>contact_other_covid</th>\n",
       "      <th>covid_res</th>\n",
       "      <th>icu</th>\n",
       "    </tr>\n",
       "  </thead>\n",
       "  <tbody>\n",
       "    <tr>\n",
       "      <th>0</th>\n",
       "      <td>16169f</td>\n",
       "      <td>2</td>\n",
       "      <td>1</td>\n",
       "      <td>04-05-2020</td>\n",
       "      <td>02-05-2020</td>\n",
       "      <td>9999-99-99</td>\n",
       "      <td>97</td>\n",
       "      <td>2</td>\n",
       "      <td>27</td>\n",
       "      <td>97</td>\n",
       "      <td>...</td>\n",
       "      <td>2</td>\n",
       "      <td>2</td>\n",
       "      <td>2</td>\n",
       "      <td>2</td>\n",
       "      <td>2</td>\n",
       "      <td>2</td>\n",
       "      <td>2</td>\n",
       "      <td>2</td>\n",
       "      <td>1</td>\n",
       "      <td>97</td>\n",
       "    </tr>\n",
       "    <tr>\n",
       "      <th>1</th>\n",
       "      <td>1009bf</td>\n",
       "      <td>2</td>\n",
       "      <td>1</td>\n",
       "      <td>19-03-2020</td>\n",
       "      <td>17-03-2020</td>\n",
       "      <td>9999-99-99</td>\n",
       "      <td>97</td>\n",
       "      <td>2</td>\n",
       "      <td>24</td>\n",
       "      <td>97</td>\n",
       "      <td>...</td>\n",
       "      <td>2</td>\n",
       "      <td>2</td>\n",
       "      <td>2</td>\n",
       "      <td>2</td>\n",
       "      <td>2</td>\n",
       "      <td>2</td>\n",
       "      <td>2</td>\n",
       "      <td>99</td>\n",
       "      <td>1</td>\n",
       "      <td>97</td>\n",
       "    </tr>\n",
       "    <tr>\n",
       "      <th>2</th>\n",
       "      <td>167386</td>\n",
       "      <td>1</td>\n",
       "      <td>2</td>\n",
       "      <td>06-04-2020</td>\n",
       "      <td>01-04-2020</td>\n",
       "      <td>9999-99-99</td>\n",
       "      <td>2</td>\n",
       "      <td>2</td>\n",
       "      <td>54</td>\n",
       "      <td>2</td>\n",
       "      <td>...</td>\n",
       "      <td>2</td>\n",
       "      <td>2</td>\n",
       "      <td>2</td>\n",
       "      <td>2</td>\n",
       "      <td>1</td>\n",
       "      <td>2</td>\n",
       "      <td>2</td>\n",
       "      <td>99</td>\n",
       "      <td>1</td>\n",
       "      <td>2</td>\n",
       "    </tr>\n",
       "    <tr>\n",
       "      <th>3</th>\n",
       "      <td>0b5948</td>\n",
       "      <td>2</td>\n",
       "      <td>2</td>\n",
       "      <td>17-04-2020</td>\n",
       "      <td>10-04-2020</td>\n",
       "      <td>9999-99-99</td>\n",
       "      <td>2</td>\n",
       "      <td>1</td>\n",
       "      <td>30</td>\n",
       "      <td>97</td>\n",
       "      <td>...</td>\n",
       "      <td>2</td>\n",
       "      <td>2</td>\n",
       "      <td>2</td>\n",
       "      <td>2</td>\n",
       "      <td>2</td>\n",
       "      <td>2</td>\n",
       "      <td>2</td>\n",
       "      <td>99</td>\n",
       "      <td>1</td>\n",
       "      <td>2</td>\n",
       "    </tr>\n",
       "    <tr>\n",
       "      <th>4</th>\n",
       "      <td>0d01b5</td>\n",
       "      <td>1</td>\n",
       "      <td>2</td>\n",
       "      <td>13-04-2020</td>\n",
       "      <td>13-04-2020</td>\n",
       "      <td>22-04-2020</td>\n",
       "      <td>2</td>\n",
       "      <td>2</td>\n",
       "      <td>60</td>\n",
       "      <td>2</td>\n",
       "      <td>...</td>\n",
       "      <td>2</td>\n",
       "      <td>1</td>\n",
       "      <td>2</td>\n",
       "      <td>1</td>\n",
       "      <td>2</td>\n",
       "      <td>2</td>\n",
       "      <td>2</td>\n",
       "      <td>99</td>\n",
       "      <td>1</td>\n",
       "      <td>2</td>\n",
       "    </tr>\n",
       "  </tbody>\n",
       "</table>\n",
       "<p>5 rows × 23 columns</p>\n",
       "</div>"
      ],
      "text/plain": [
       "       id  sex  patient_type  entry_date date_symptoms   date_died  intubed  \\\n",
       "0  16169f    2             1  04-05-2020    02-05-2020  9999-99-99       97   \n",
       "1  1009bf    2             1  19-03-2020    17-03-2020  9999-99-99       97   \n",
       "2  167386    1             2  06-04-2020    01-04-2020  9999-99-99        2   \n",
       "3  0b5948    2             2  17-04-2020    10-04-2020  9999-99-99        2   \n",
       "4  0d01b5    1             2  13-04-2020    13-04-2020  22-04-2020        2   \n",
       "\n",
       "   pneumonia  age  pregnancy  ...  inmsupr  hypertension  other_disease  \\\n",
       "0          2   27         97  ...        2             2              2   \n",
       "1          2   24         97  ...        2             2              2   \n",
       "2          2   54          2  ...        2             2              2   \n",
       "3          1   30         97  ...        2             2              2   \n",
       "4          2   60          2  ...        2             1              2   \n",
       "\n",
       "   cardiovascular  obesity  renal_chronic  tobacco  contact_other_covid  \\\n",
       "0               2        2              2        2                    2   \n",
       "1               2        2              2        2                   99   \n",
       "2               2        1              2        2                   99   \n",
       "3               2        2              2        2                   99   \n",
       "4               1        2              2        2                   99   \n",
       "\n",
       "   covid_res  icu  \n",
       "0          1   97  \n",
       "1          1   97  \n",
       "2          1    2  \n",
       "3          1    2  \n",
       "4          1    2  \n",
       "\n",
       "[5 rows x 23 columns]"
      ]
     },
     "execution_count": 7,
     "metadata": {},
     "output_type": "execute_result"
    }
   ],
   "source": [
    "df.head()"
   ]
  },
  {
   "cell_type": "code",
   "execution_count": 8,
   "metadata": {},
   "outputs": [
    {
     "name": "stdout",
     "output_type": "stream",
     "text": [
      "<class 'pandas.core.frame.DataFrame'>\n",
      "RangeIndex: 566602 entries, 0 to 566601\n",
      "Data columns (total 23 columns):\n",
      " #   Column               Non-Null Count   Dtype \n",
      "---  ------               --------------   ----- \n",
      " 0   id                   566602 non-null  object\n",
      " 1   sex                  566602 non-null  int64 \n",
      " 2   patient_type         566602 non-null  int64 \n",
      " 3   entry_date           566602 non-null  object\n",
      " 4   date_symptoms        566602 non-null  object\n",
      " 5   date_died            566602 non-null  object\n",
      " 6   intubed              566602 non-null  int64 \n",
      " 7   pneumonia            566602 non-null  int64 \n",
      " 8   age                  566602 non-null  int64 \n",
      " 9   pregnancy            566602 non-null  int64 \n",
      " 10  diabetes             566602 non-null  int64 \n",
      " 11  copd                 566602 non-null  int64 \n",
      " 12  asthma               566602 non-null  int64 \n",
      " 13  inmsupr              566602 non-null  int64 \n",
      " 14  hypertension         566602 non-null  int64 \n",
      " 15  other_disease        566602 non-null  int64 \n",
      " 16  cardiovascular       566602 non-null  int64 \n",
      " 17  obesity              566602 non-null  int64 \n",
      " 18  renal_chronic        566602 non-null  int64 \n",
      " 19  tobacco              566602 non-null  int64 \n",
      " 20  contact_other_covid  566602 non-null  int64 \n",
      " 21  covid_res            566602 non-null  int64 \n",
      " 22  icu                  566602 non-null  int64 \n",
      "dtypes: int64(19), object(4)\n",
      "memory usage: 99.4+ MB\n"
     ]
    }
   ],
   "source": [
    "df.info()"
   ]
  },
  {
   "cell_type": "code",
   "execution_count": 9,
   "metadata": {},
   "outputs": [
    {
     "data": {
      "text/plain": [
       "<matplotlib.axes._subplots.AxesSubplot at 0x1b3ae873348>"
      ]
     },
     "execution_count": 9,
     "metadata": {},
     "output_type": "execute_result"
    },
    {
     "data": {
      "image/png": "[encoded data removed]",
      "text/plain": [
       "<Figure size 432x288 with 1 Axes>"
      ]
     },
     "metadata": {
      "needs_background": "light"
     },
     "output_type": "display_data"
    }
   ],
   "source": [
    "sns.countplot(data=df,x='covid_res')"
   ]
  },
  {
   "cell_type": "code",
   "execution_count": 10,
   "metadata": {},
   "outputs": [
    {
     "data": {
      "text/plain": [
       "<matplotlib.axes._subplots.AxesSubplot at 0x1b3b46a8e08>"
      ]
     },
     "execution_count": 10,
     "metadata": {},
     "output_type": "execute_result"
    },
    {
     "data": {
      "image/png": "[encoded data removed]",
      "text/plain": [
       "<Figure size 432x288 with 1 Axes>"
      ]
     },
     "metadata": {
      "needs_background": "light"
     },
     "output_type": "display_data"
    }
   ],
   "source": [
    "sns.barplot(x='diabetes',y='covid_res',data=df)"
   ]
  },
  {
   "cell_type": "code",
   "execution_count": 11,
   "metadata": {},
   "outputs": [
    {
     "data": {
      "text/plain": [
       "<matplotlib.axes._subplots.AxesSubplot at 0x1b3b3bde408>"
      ]
     },
     "execution_count": 11,
     "metadata": {},
     "output_type": "execute_result"
    },
    {
     "data": {
      "image/png": "[encoded data removed]",
      "text/plain": [
       "<Figure size 432x288 with 1 Axes>"
      ]
     },
     "metadata": {
      "needs_background": "light"
     },
     "output_type": "display_data"
    }
   ],
   "source": [
    "sns.barplot(x='asthma',y='covid_res',data=df)"
   ]
  },
  {
   "cell_type": "code",
   "execution_count": 12,
   "metadata": {},
   "outputs": [
    {
     "data": {
      "text/plain": [
       "<matplotlib.axes._subplots.AxesSubplot at 0x1b3b3c58888>"
      ]
     },
     "execution_count": 12,
     "metadata": {},
     "output_type": "execute_result"
    },
    {
     "data": {
      "image/png": "[encoded data removed]",
      "text/plain": [
       "<Figure size 432x288 with 1 Axes>"
      ]
     },
     "metadata": {
      "needs_background": "light"
     },
     "output_type": "display_data"
    }
   ],
   "source": [
    "sns.barplot(x='pneumonia',y='covid_res',data=df)"
   ]
  },
  {
   "cell_type": "code",
   "execution_count": 13,
   "metadata": {},
   "outputs": [
    {
     "data": {
      "text/plain": [
       "<matplotlib.axes._subplots.AxesSubplot at 0x1b3b3cc1088>"
      ]
     },
     "execution_count": 13,
     "metadata": {},
     "output_type": "execute_result"
    },
    {
     "data": {
      "image/png": "[encoded data removed]",
      "text/plain": [
       "<Figure size 432x288 with 1 Axes>"
      ]
     },
     "metadata": {
      "needs_background": "light"
     },
     "output_type": "display_data"
    }
   ],
   "source": [
    "sns.barplot(x='obesity',y='covid_res',data=df)"
   ]
  },
  {
   "cell_type": "code",
   "execution_count": 14,
   "metadata": {},
   "outputs": [
    {
     "data": {
      "text/plain": [
       "<matplotlib.axes._subplots.AxesSubplot at 0x1b3b3d315c8>"
      ]
     },
     "execution_count": 14,
     "metadata": {},
     "output_type": "execute_result"
    },
    {
     "data": {
      "image/png": "[encoded data removed]",
      "text/plain": [
       "<Figure size 432x288 with 1 Axes>"
      ]
     },
     "metadata": {
      "needs_background": "light"
     },
     "output_type": "display_data"
    }
   ],
   "source": [
    "sns.boxplot(x='obesity',y='covid_res',data=df)"
   ]
  },
  {
   "cell_type": "code",
   "execution_count": 15,
   "metadata": {},
   "outputs": [
    {
     "data": {
      "text/plain": [
       "<matplotlib.axes._subplots.AxesSubplot at 0x1b3b21e2588>"
      ]
     },
     "execution_count": 15,
     "metadata": {},
     "output_type": "execute_result"
    },
    {
     "data": {
      "image/png": "[encoded data removed]",
      "text/plain": [
       "<Figure size 432x288 with 1 Axes>"
      ]
     },
     "metadata": {
      "needs_background": "light"
     },
     "output_type": "display_data"
    }
   ],
   "source": [
    "sns.violinplot(x='obesity',y='covid_res',data=df)"
   ]
  },
  {
   "cell_type": "code",
   "execution_count": 16,
   "metadata": {},
   "outputs": [],
   "source": [
    "X=df.drop(['id','entry_date','date_symptoms','date_died','covid_res'],axis=1)\n",
    "y=df['covid_res']"
   ]
  },
  {
   "cell_type": "code",
   "execution_count": 17,
   "metadata": {},
   "outputs": [
    {
     "data": {
      "text/html": [
       "<div>\n",
       "<style scoped>\n",
       "    .dataframe tbody tr th:only-of-type {\n",
       "        vertical-align: middle;\n",
       "    }\n",
       "\n",
       "    .dataframe tbody tr th {\n",
       "        vertical-align: top;\n",
       "    }\n",
       "\n",
       "    .dataframe thead th {\n",
       "        text-align: right;\n",
       "    }\n",
       "</style>\n",
       "<table border=\"1\" class=\"dataframe\">\n",
       "  <thead>\n",
       "    <tr style=\"text-align: right;\">\n",
       "      <th></th>\n",
       "      <th>sex</th>\n",
       "      <th>patient_type</th>\n",
       "      <th>intubed</th>\n",
       "      <th>pneumonia</th>\n",
       "      <th>age</th>\n",
       "      <th>pregnancy</th>\n",
       "      <th>diabetes</th>\n",
       "      <th>copd</th>\n",
       "      <th>asthma</th>\n",
       "      <th>inmsupr</th>\n",
       "      <th>hypertension</th>\n",
       "      <th>other_disease</th>\n",
       "      <th>cardiovascular</th>\n",
       "      <th>obesity</th>\n",
       "      <th>renal_chronic</th>\n",
       "      <th>tobacco</th>\n",
       "      <th>contact_other_covid</th>\n",
       "      <th>icu</th>\n",
       "    </tr>\n",
       "  </thead>\n",
       "  <tbody>\n",
       "    <tr>\n",
       "      <th>0</th>\n",
       "      <td>2</td>\n",
       "      <td>1</td>\n",
       "      <td>97</td>\n",
       "      <td>2</td>\n",
       "      <td>27</td>\n",
       "      <td>97</td>\n",
       "      <td>2</td>\n",
       "      <td>2</td>\n",
       "      <td>2</td>\n",
       "      <td>2</td>\n",
       "      <td>2</td>\n",
       "      <td>2</td>\n",
       "      <td>2</td>\n",
       "      <td>2</td>\n",
       "      <td>2</td>\n",
       "      <td>2</td>\n",
       "      <td>2</td>\n",
       "      <td>97</td>\n",
       "    </tr>\n",
       "    <tr>\n",
       "      <th>1</th>\n",
       "      <td>2</td>\n",
       "      <td>1</td>\n",
       "      <td>97</td>\n",
       "      <td>2</td>\n",
       "      <td>24</td>\n",
       "      <td>97</td>\n",
       "      <td>2</td>\n",
       "      <td>2</td>\n",
       "      <td>2</td>\n",
       "      <td>2</td>\n",
       "      <td>2</td>\n",
       "      <td>2</td>\n",
       "      <td>2</td>\n",
       "      <td>2</td>\n",
       "      <td>2</td>\n",
       "      <td>2</td>\n",
       "      <td>99</td>\n",
       "      <td>97</td>\n",
       "    </tr>\n",
       "    <tr>\n",
       "      <th>2</th>\n",
       "      <td>1</td>\n",
       "      <td>2</td>\n",
       "      <td>2</td>\n",
       "      <td>2</td>\n",
       "      <td>54</td>\n",
       "      <td>2</td>\n",
       "      <td>2</td>\n",
       "      <td>2</td>\n",
       "      <td>2</td>\n",
       "      <td>2</td>\n",
       "      <td>2</td>\n",
       "      <td>2</td>\n",
       "      <td>2</td>\n",
       "      <td>1</td>\n",
       "      <td>2</td>\n",
       "      <td>2</td>\n",
       "      <td>99</td>\n",
       "      <td>2</td>\n",
       "    </tr>\n",
       "    <tr>\n",
       "      <th>3</th>\n",
       "      <td>2</td>\n",
       "      <td>2</td>\n",
       "      <td>2</td>\n",
       "      <td>1</td>\n",
       "      <td>30</td>\n",
       "      <td>97</td>\n",
       "      <td>2</td>\n",
       "      <td>2</td>\n",
       "      <td>2</td>\n",
       "      <td>2</td>\n",
       "      <td>2</td>\n",
       "      <td>2</td>\n",
       "      <td>2</td>\n",
       "      <td>2</td>\n",
       "      <td>2</td>\n",
       "      <td>2</td>\n",
       "      <td>99</td>\n",
       "      <td>2</td>\n",
       "    </tr>\n",
       "    <tr>\n",
       "      <th>4</th>\n",
       "      <td>1</td>\n",
       "      <td>2</td>\n",
       "      <td>2</td>\n",
       "      <td>2</td>\n",
       "      <td>60</td>\n",
       "      <td>2</td>\n",
       "      <td>1</td>\n",
       "      <td>2</td>\n",
       "      <td>2</td>\n",
       "      <td>2</td>\n",
       "      <td>1</td>\n",
       "      <td>2</td>\n",
       "      <td>1</td>\n",
       "      <td>2</td>\n",
       "      <td>2</td>\n",
       "      <td>2</td>\n",
       "      <td>99</td>\n",
       "      <td>2</td>\n",
       "    </tr>\n",
       "  </tbody>\n",
       "</table>\n",
       "</div>"
      ],
      "text/plain": [
       "   sex  patient_type  intubed  pneumonia  age  pregnancy  diabetes  copd  \\\n",
       "0    2             1       97          2   27         97         2     2   \n",
       "1    2             1       97          2   24         97         2     2   \n",
       "2    1             2        2          2   54          2         2     2   \n",
       "3    2             2        2          1   30         97         2     2   \n",
       "4    1             2        2          2   60          2         1     2   \n",
       "\n",
       "   asthma  inmsupr  hypertension  other_disease  cardiovascular  obesity  \\\n",
       "0       2        2             2              2               2        2   \n",
       "1       2        2             2              2               2        2   \n",
       "2       2        2             2              2               2        1   \n",
       "3       2        2             2              2               2        2   \n",
       "4       2        2             1              2               1        2   \n",
       "\n",
       "   renal_chronic  tobacco  contact_other_covid  icu  \n",
       "0              2        2                    2   97  \n",
       "1              2        2                   99   97  \n",
       "2              2        2                   99    2  \n",
       "3              2        2                   99    2  \n",
       "4              2        2                   99    2  "
      ]
     },
     "execution_count": 17,
     "metadata": {},
     "output_type": "execute_result"
    }
   ],
   "source": [
    "X.head()"
   ]
  },
  {
   "cell_type": "code",
   "execution_count": 18,
   "metadata": {},
   "outputs": [
    {
     "data": {
      "text/plain": [
       "0         1\n",
       "1         1\n",
       "2         1\n",
       "3         1\n",
       "4         1\n",
       "         ..\n",
       "566597    3\n",
       "566598    3\n",
       "566599    3\n",
       "566600    3\n",
       "566601    3\n",
       "Name: covid_res, Length: 566602, dtype: int64"
      ]
     },
     "execution_count": 18,
     "metadata": {},
     "output_type": "execute_result"
    }
   ],
   "source": [
    "y"
   ]
  },
  {
   "cell_type": "code",
   "execution_count": 19,
   "metadata": {},
   "outputs": [],
   "source": [
    "from sklearn.model_selection import train_test_split"
   ]
  },
  {
   "cell_type": "code",
   "execution_count": 20,
   "metadata": {},
   "outputs": [],
   "source": [
    "X_train, X_test, y_train, y_test = train_test_split(X, y, test_size=0.30)"
   ]
  },
  {
   "cell_type": "code",
   "execution_count": 21,
   "metadata": {},
   "outputs": [
    {
     "data": {
      "text/html": [
       "<div>\n",
       "<style scoped>\n",
       "    .dataframe tbody tr th:only-of-type {\n",
       "        vertical-align: middle;\n",
       "    }\n",
       "\n",
       "    .dataframe tbody tr th {\n",
       "        vertical-align: top;\n",
       "    }\n",
       "\n",
       "    .dataframe thead th {\n",
       "        text-align: right;\n",
       "    }\n",
       "</style>\n",
       "<table border=\"1\" class=\"dataframe\">\n",
       "  <thead>\n",
       "    <tr style=\"text-align: right;\">\n",
       "      <th></th>\n",
       "      <th>sex</th>\n",
       "      <th>patient_type</th>\n",
       "      <th>intubed</th>\n",
       "      <th>pneumonia</th>\n",
       "      <th>age</th>\n",
       "      <th>pregnancy</th>\n",
       "      <th>diabetes</th>\n",
       "      <th>copd</th>\n",
       "      <th>asthma</th>\n",
       "      <th>inmsupr</th>\n",
       "      <th>hypertension</th>\n",
       "      <th>other_disease</th>\n",
       "      <th>cardiovascular</th>\n",
       "      <th>obesity</th>\n",
       "      <th>renal_chronic</th>\n",
       "      <th>tobacco</th>\n",
       "      <th>contact_other_covid</th>\n",
       "      <th>icu</th>\n",
       "    </tr>\n",
       "  </thead>\n",
       "  <tbody>\n",
       "    <tr>\n",
       "      <th>437309</th>\n",
       "      <td>1</td>\n",
       "      <td>1</td>\n",
       "      <td>97</td>\n",
       "      <td>2</td>\n",
       "      <td>26</td>\n",
       "      <td>2</td>\n",
       "      <td>2</td>\n",
       "      <td>2</td>\n",
       "      <td>2</td>\n",
       "      <td>2</td>\n",
       "      <td>2</td>\n",
       "      <td>2</td>\n",
       "      <td>2</td>\n",
       "      <td>2</td>\n",
       "      <td>2</td>\n",
       "      <td>2</td>\n",
       "      <td>2</td>\n",
       "      <td>97</td>\n",
       "    </tr>\n",
       "    <tr>\n",
       "      <th>361301</th>\n",
       "      <td>2</td>\n",
       "      <td>1</td>\n",
       "      <td>97</td>\n",
       "      <td>2</td>\n",
       "      <td>62</td>\n",
       "      <td>97</td>\n",
       "      <td>2</td>\n",
       "      <td>2</td>\n",
       "      <td>2</td>\n",
       "      <td>2</td>\n",
       "      <td>2</td>\n",
       "      <td>2</td>\n",
       "      <td>2</td>\n",
       "      <td>2</td>\n",
       "      <td>2</td>\n",
       "      <td>2</td>\n",
       "      <td>2</td>\n",
       "      <td>97</td>\n",
       "    </tr>\n",
       "    <tr>\n",
       "      <th>543977</th>\n",
       "      <td>1</td>\n",
       "      <td>1</td>\n",
       "      <td>97</td>\n",
       "      <td>2</td>\n",
       "      <td>40</td>\n",
       "      <td>2</td>\n",
       "      <td>2</td>\n",
       "      <td>2</td>\n",
       "      <td>2</td>\n",
       "      <td>2</td>\n",
       "      <td>2</td>\n",
       "      <td>2</td>\n",
       "      <td>2</td>\n",
       "      <td>2</td>\n",
       "      <td>2</td>\n",
       "      <td>1</td>\n",
       "      <td>2</td>\n",
       "      <td>97</td>\n",
       "    </tr>\n",
       "    <tr>\n",
       "      <th>436704</th>\n",
       "      <td>1</td>\n",
       "      <td>1</td>\n",
       "      <td>97</td>\n",
       "      <td>2</td>\n",
       "      <td>26</td>\n",
       "      <td>2</td>\n",
       "      <td>2</td>\n",
       "      <td>2</td>\n",
       "      <td>2</td>\n",
       "      <td>2</td>\n",
       "      <td>2</td>\n",
       "      <td>2</td>\n",
       "      <td>2</td>\n",
       "      <td>2</td>\n",
       "      <td>2</td>\n",
       "      <td>2</td>\n",
       "      <td>99</td>\n",
       "      <td>97</td>\n",
       "    </tr>\n",
       "    <tr>\n",
       "      <th>387335</th>\n",
       "      <td>2</td>\n",
       "      <td>1</td>\n",
       "      <td>97</td>\n",
       "      <td>2</td>\n",
       "      <td>48</td>\n",
       "      <td>97</td>\n",
       "      <td>2</td>\n",
       "      <td>2</td>\n",
       "      <td>2</td>\n",
       "      <td>2</td>\n",
       "      <td>2</td>\n",
       "      <td>2</td>\n",
       "      <td>2</td>\n",
       "      <td>2</td>\n",
       "      <td>2</td>\n",
       "      <td>2</td>\n",
       "      <td>1</td>\n",
       "      <td>97</td>\n",
       "    </tr>\n",
       "  </tbody>\n",
       "</table>\n",
       "</div>"
      ],
      "text/plain": [
       "        sex  patient_type  intubed  pneumonia  age  pregnancy  diabetes  copd  \\\n",
       "437309    1             1       97          2   26          2         2     2   \n",
       "361301    2             1       97          2   62         97         2     2   \n",
       "543977    1             1       97          2   40          2         2     2   \n",
       "436704    1             1       97          2   26          2         2     2   \n",
       "387335    2             1       97          2   48         97         2     2   \n",
       "\n",
       "        asthma  inmsupr  hypertension  other_disease  cardiovascular  obesity  \\\n",
       "437309       2        2             2              2               2        2   \n",
       "361301       2        2             2              2               2        2   \n",
       "543977       2        2             2              2               2        2   \n",
       "436704       2        2             2              2               2        2   \n",
       "387335       2        2             2              2               2        2   \n",
       "\n",
       "        renal_chronic  tobacco  contact_other_covid  icu  \n",
       "437309              2        2                    2   97  \n",
       "361301              2        2                    2   97  \n",
       "543977              2        1                    2   97  \n",
       "436704              2        2                   99   97  \n",
       "387335              2        2                    1   97  "
      ]
     },
     "execution_count": 21,
     "metadata": {},
     "output_type": "execute_result"
    }
   ],
   "source": [
    "X_train.head()"
   ]
  },
  {
   "cell_type": "code",
   "execution_count": 22,
   "metadata": {},
   "outputs": [
    {
     "data": {
      "text/html": [
       "<div>\n",
       "<style scoped>\n",
       "    .dataframe tbody tr th:only-of-type {\n",
       "        vertical-align: middle;\n",
       "    }\n",
       "\n",
       "    .dataframe tbody tr th {\n",
       "        vertical-align: top;\n",
       "    }\n",
       "\n",
       "    .dataframe thead th {\n",
       "        text-align: right;\n",
       "    }\n",
       "</style>\n",
       "<table border=\"1\" class=\"dataframe\">\n",
       "  <thead>\n",
       "    <tr style=\"text-align: right;\">\n",
       "      <th></th>\n",
       "      <th>sex</th>\n",
       "      <th>patient_type</th>\n",
       "      <th>intubed</th>\n",
       "      <th>pneumonia</th>\n",
       "      <th>age</th>\n",
       "      <th>pregnancy</th>\n",
       "      <th>diabetes</th>\n",
       "      <th>copd</th>\n",
       "      <th>asthma</th>\n",
       "      <th>inmsupr</th>\n",
       "      <th>hypertension</th>\n",
       "      <th>other_disease</th>\n",
       "      <th>cardiovascular</th>\n",
       "      <th>obesity</th>\n",
       "      <th>renal_chronic</th>\n",
       "      <th>tobacco</th>\n",
       "      <th>contact_other_covid</th>\n",
       "      <th>icu</th>\n",
       "    </tr>\n",
       "  </thead>\n",
       "  <tbody>\n",
       "    <tr>\n",
       "      <th>339991</th>\n",
       "      <td>1</td>\n",
       "      <td>1</td>\n",
       "      <td>97</td>\n",
       "      <td>2</td>\n",
       "      <td>32</td>\n",
       "      <td>2</td>\n",
       "      <td>2</td>\n",
       "      <td>2</td>\n",
       "      <td>2</td>\n",
       "      <td>2</td>\n",
       "      <td>2</td>\n",
       "      <td>2</td>\n",
       "      <td>2</td>\n",
       "      <td>2</td>\n",
       "      <td>2</td>\n",
       "      <td>2</td>\n",
       "      <td>1</td>\n",
       "      <td>97</td>\n",
       "    </tr>\n",
       "    <tr>\n",
       "      <th>417578</th>\n",
       "      <td>2</td>\n",
       "      <td>1</td>\n",
       "      <td>97</td>\n",
       "      <td>2</td>\n",
       "      <td>82</td>\n",
       "      <td>97</td>\n",
       "      <td>2</td>\n",
       "      <td>2</td>\n",
       "      <td>2</td>\n",
       "      <td>2</td>\n",
       "      <td>2</td>\n",
       "      <td>2</td>\n",
       "      <td>2</td>\n",
       "      <td>2</td>\n",
       "      <td>2</td>\n",
       "      <td>2</td>\n",
       "      <td>1</td>\n",
       "      <td>97</td>\n",
       "    </tr>\n",
       "    <tr>\n",
       "      <th>103785</th>\n",
       "      <td>2</td>\n",
       "      <td>2</td>\n",
       "      <td>2</td>\n",
       "      <td>1</td>\n",
       "      <td>61</td>\n",
       "      <td>97</td>\n",
       "      <td>1</td>\n",
       "      <td>2</td>\n",
       "      <td>2</td>\n",
       "      <td>2</td>\n",
       "      <td>1</td>\n",
       "      <td>2</td>\n",
       "      <td>1</td>\n",
       "      <td>1</td>\n",
       "      <td>1</td>\n",
       "      <td>2</td>\n",
       "      <td>2</td>\n",
       "      <td>2</td>\n",
       "    </tr>\n",
       "    <tr>\n",
       "      <th>399327</th>\n",
       "      <td>1</td>\n",
       "      <td>1</td>\n",
       "      <td>97</td>\n",
       "      <td>2</td>\n",
       "      <td>32</td>\n",
       "      <td>2</td>\n",
       "      <td>2</td>\n",
       "      <td>2</td>\n",
       "      <td>2</td>\n",
       "      <td>2</td>\n",
       "      <td>2</td>\n",
       "      <td>2</td>\n",
       "      <td>2</td>\n",
       "      <td>2</td>\n",
       "      <td>2</td>\n",
       "      <td>2</td>\n",
       "      <td>99</td>\n",
       "      <td>97</td>\n",
       "    </tr>\n",
       "    <tr>\n",
       "      <th>343471</th>\n",
       "      <td>2</td>\n",
       "      <td>1</td>\n",
       "      <td>97</td>\n",
       "      <td>2</td>\n",
       "      <td>17</td>\n",
       "      <td>97</td>\n",
       "      <td>2</td>\n",
       "      <td>2</td>\n",
       "      <td>2</td>\n",
       "      <td>2</td>\n",
       "      <td>2</td>\n",
       "      <td>2</td>\n",
       "      <td>2</td>\n",
       "      <td>1</td>\n",
       "      <td>2</td>\n",
       "      <td>2</td>\n",
       "      <td>99</td>\n",
       "      <td>97</td>\n",
       "    </tr>\n",
       "  </tbody>\n",
       "</table>\n",
       "</div>"
      ],
      "text/plain": [
       "        sex  patient_type  intubed  pneumonia  age  pregnancy  diabetes  copd  \\\n",
       "339991    1             1       97          2   32          2         2     2   \n",
       "417578    2             1       97          2   82         97         2     2   \n",
       "103785    2             2        2          1   61         97         1     2   \n",
       "399327    1             1       97          2   32          2         2     2   \n",
       "343471    2             1       97          2   17         97         2     2   \n",
       "\n",
       "        asthma  inmsupr  hypertension  other_disease  cardiovascular  obesity  \\\n",
       "339991       2        2             2              2               2        2   \n",
       "417578       2        2             2              2               2        2   \n",
       "103785       2        2             1              2               1        1   \n",
       "399327       2        2             2              2               2        2   \n",
       "343471       2        2             2              2               2        1   \n",
       "\n",
       "        renal_chronic  tobacco  contact_other_covid  icu  \n",
       "339991              2        2                    1   97  \n",
       "417578              2        2                    1   97  \n",
       "103785              1        2                    2    2  \n",
       "399327              2        2                   99   97  \n",
       "343471              2        2                   99   97  "
      ]
     },
     "execution_count": 22,
     "metadata": {},
     "output_type": "execute_result"
    }
   ],
   "source": [
    "X_test.head()"
   ]
  },
  {
   "cell_type": "code",
   "execution_count": 23,
   "metadata": {},
   "outputs": [],
   "source": [
    "from sklearn.tree import DecisionTreeClassifier"
   ]
  },
  {
   "cell_type": "code",
   "execution_count": 24,
   "metadata": {},
   "outputs": [],
   "source": [
    "dtree = DecisionTreeClassifier()"
   ]
  },
  {
   "cell_type": "code",
   "execution_count": 25,
   "metadata": {},
   "outputs": [
    {
     "data": {
      "text/plain": [
       "DecisionTreeClassifier(ccp_alpha=0.0, class_weight=None, criterion='gini',\n",
       "                       max_depth=None, max_features=None, max_leaf_nodes=None,\n",
       "                       min_impurity_decrease=0.0, min_impurity_split=None,\n",
       "                       min_samples_leaf=1, min_samples_split=2,\n",
       "                       min_weight_fraction_leaf=0.0, presort='deprecated',\n",
       "                       random_state=None, splitter='best')"
      ]
     },
     "execution_count": 25,
     "metadata": {},
     "output_type": "execute_result"
    }
   ],
   "source": [
    "dtree.fit(X_train,y_train)"
   ]
  },
  {
   "cell_type": "code",
   "execution_count": 26,
   "metadata": {},
   "outputs": [
    {
     "data": {
      "text/plain": [
       "array([2, 2, 1, ..., 1, 2, 1], dtype=int64)"
      ]
     },
     "execution_count": 26,
     "metadata": {},
     "output_type": "execute_result"
    }
   ],
   "source": [
    "y_pred = dtree.predict(X_test)\n",
    "y_pred"
   ]
  },
  {
   "cell_type": "code",
   "execution_count": 27,
   "metadata": {},
   "outputs": [
    {
     "name": "stdout",
     "output_type": "stream",
     "text": [
      "              precision    recall  f1-score   support\n",
      "\n",
      "           1       0.53      0.39      0.45     66015\n",
      "           2       0.55      0.79      0.65     83862\n",
      "           3       0.13      0.02      0.03     20104\n",
      "\n",
      "    accuracy                           0.54    169981\n",
      "   macro avg       0.40      0.40      0.38    169981\n",
      "weighted avg       0.50      0.54      0.50    169981\n",
      "\n"
     ]
    }
   ],
   "source": [
    "from sklearn.metrics import classification_report,confusion_matrix,accuracy_score\n",
    "print(classification_report(y_test,y_pred))"
   ]
  },
  {
   "cell_type": "code",
   "execution_count": 28,
   "metadata": {},
   "outputs": [
    {
     "data": {
      "text/plain": [
       "0.5419782210952989"
      ]
     },
     "execution_count": 28,
     "metadata": {},
     "output_type": "execute_result"
    }
   ],
   "source": [
    "accuracy_score(y_test, y_pred)"
   ]
  },
  {
   "cell_type": "code",
   "execution_count": 29,
   "metadata": {},
   "outputs": [
    {
     "data": {
      "text/html": [
       "<div>\n",
       "<style scoped>\n",
       "    .dataframe tbody tr th:only-of-type {\n",
       "        vertical-align: middle;\n",
       "    }\n",
       "\n",
       "    .dataframe tbody tr th {\n",
       "        vertical-align: top;\n",
       "    }\n",
       "\n",
       "    .dataframe thead th {\n",
       "        text-align: right;\n",
       "    }\n",
       "</style>\n",
       "<table border=\"1\" class=\"dataframe\">\n",
       "  <thead>\n",
       "    <tr style=\"text-align: right;\">\n",
       "      <th></th>\n",
       "      <th>sex</th>\n",
       "      <th>patient_type</th>\n",
       "      <th>intubed</th>\n",
       "      <th>pneumonia</th>\n",
       "      <th>age</th>\n",
       "      <th>diabetes</th>\n",
       "      <th>asthma</th>\n",
       "      <th>hypertension</th>\n",
       "      <th>cardiovascular</th>\n",
       "      <th>obesity</th>\n",
       "      <th>tobacco</th>\n",
       "      <th>covid_res</th>\n",
       "    </tr>\n",
       "  </thead>\n",
       "  <tbody>\n",
       "    <tr>\n",
       "      <th>339991</th>\n",
       "      <td>1</td>\n",
       "      <td>1</td>\n",
       "      <td>97</td>\n",
       "      <td>2</td>\n",
       "      <td>32</td>\n",
       "      <td>2</td>\n",
       "      <td>2</td>\n",
       "      <td>2</td>\n",
       "      <td>2</td>\n",
       "      <td>2</td>\n",
       "      <td>2</td>\n",
       "      <td>2</td>\n",
       "    </tr>\n",
       "    <tr>\n",
       "      <th>417578</th>\n",
       "      <td>2</td>\n",
       "      <td>1</td>\n",
       "      <td>97</td>\n",
       "      <td>2</td>\n",
       "      <td>82</td>\n",
       "      <td>2</td>\n",
       "      <td>2</td>\n",
       "      <td>2</td>\n",
       "      <td>2</td>\n",
       "      <td>2</td>\n",
       "      <td>2</td>\n",
       "      <td>2</td>\n",
       "    </tr>\n",
       "    <tr>\n",
       "      <th>103785</th>\n",
       "      <td>2</td>\n",
       "      <td>2</td>\n",
       "      <td>2</td>\n",
       "      <td>1</td>\n",
       "      <td>61</td>\n",
       "      <td>1</td>\n",
       "      <td>2</td>\n",
       "      <td>1</td>\n",
       "      <td>1</td>\n",
       "      <td>1</td>\n",
       "      <td>2</td>\n",
       "      <td>1</td>\n",
       "    </tr>\n",
       "    <tr>\n",
       "      <th>399327</th>\n",
       "      <td>1</td>\n",
       "      <td>1</td>\n",
       "      <td>97</td>\n",
       "      <td>2</td>\n",
       "      <td>32</td>\n",
       "      <td>2</td>\n",
       "      <td>2</td>\n",
       "      <td>2</td>\n",
       "      <td>2</td>\n",
       "      <td>2</td>\n",
       "      <td>2</td>\n",
       "      <td>2</td>\n",
       "    </tr>\n",
       "    <tr>\n",
       "      <th>343471</th>\n",
       "      <td>2</td>\n",
       "      <td>1</td>\n",
       "      <td>97</td>\n",
       "      <td>2</td>\n",
       "      <td>17</td>\n",
       "      <td>2</td>\n",
       "      <td>2</td>\n",
       "      <td>2</td>\n",
       "      <td>2</td>\n",
       "      <td>1</td>\n",
       "      <td>2</td>\n",
       "      <td>1</td>\n",
       "    </tr>\n",
       "  </tbody>\n",
       "</table>\n",
       "</div>"
      ],
      "text/plain": [
       "        sex  patient_type  intubed  pneumonia  age  diabetes  asthma  \\\n",
       "339991    1             1       97          2   32         2       2   \n",
       "417578    2             1       97          2   82         2       2   \n",
       "103785    2             2        2          1   61         1       2   \n",
       "399327    1             1       97          2   32         2       2   \n",
       "343471    2             1       97          2   17         2       2   \n",
       "\n",
       "        hypertension  cardiovascular  obesity  tobacco  covid_res  \n",
       "339991             2               2        2        2          2  \n",
       "417578             2               2        2        2          2  \n",
       "103785             1               1        1        2          1  \n",
       "399327             2               2        2        2          2  \n",
       "343471             2               2        1        2          1  "
      ]
     },
     "execution_count": 29,
     "metadata": {},
     "output_type": "execute_result"
    }
   ],
   "source": [
    "df_new=pd.DataFrame({'sex':X_test['sex'],'patient_type':X_test['patient_type'],'intubed':X_test['intubed'],\n",
    "                     'pneumonia':X_test['pneumonia'],\n",
    "                     'age':X_test['age'],\n",
    "                     'diabetes':X_test['diabetes'],\n",
    "                     'asthma':X_test['asthma'],\n",
    "                     'hypertension':X_test['hypertension'],\n",
    "                     'cardiovascular':X_test['cardiovascular'],\n",
    "                     'obesity':X_test['obesity'],\n",
    "                     'tobacco':X_test['tobacco'],\n",
    "                     \n",
    "                     'covid_res':y_pred})\n",
    "df_new.head()"
   ]
  },
  {
   "cell_type": "code",
   "execution_count": 30,
   "metadata": {},
   "outputs": [
    {
     "data": {
      "text/plain": [
       "<matplotlib.axes._subplots.AxesSubplot at 0x1b3b66ce088>"
      ]
     },
     "execution_count": 30,
     "metadata": {},
     "output_type": "execute_result"
    },
    {
     "data": {
      "image/png": "[encoded data removed]",
      "text/plain": [
       "<Figure size 432x288 with 1 Axes>"
      ]
     },
     "metadata": {
      "needs_background": "light"
     },
     "output_type": "display_data"
    }
   ],
   "source": [
    "sns.barplot(x='diabetes',y='covid_res',data=df_new)"
   ]
  },
  {
   "cell_type": "code",
   "execution_count": 31,
   "metadata": {},
   "outputs": [
    {
     "data": {
      "text/plain": [
       "<matplotlib.axes._subplots.AxesSubplot at 0x1b3b3ddff08>"
      ]
     },
     "execution_count": 31,
     "metadata": {},
     "output_type": "execute_result"
    },
    {
     "data": {
      "image/png": "[encoded data removed]",
      "text/plain": [
       "<Figure size 432x288 with 1 Axes>"
      ]
     },
     "metadata": {
      "needs_background": "light"
     },
     "output_type": "display_data"
    }
   ],
   "source": [
    "sns.barplot(x='cardiovascular',y='covid_res',data=df_new)"
   ]
  },
  {
   "cell_type": "code",
   "execution_count": 32,
   "metadata": {},
   "outputs": [
    {
     "data": {
      "text/plain": [
       "<matplotlib.axes._subplots.AxesSubplot at 0x1b3b6ab2bc8>"
      ]
     },
     "execution_count": 32,
     "metadata": {},
     "output_type": "execute_result"
    },
    {
     "data": {
      "image/png": "[encoded data removed]",
      "text/plain": [
       "<Figure size 432x288 with 1 Axes>"
      ]
     },
     "metadata": {
      "needs_background": "light"
     },
     "output_type": "display_data"
    }
   ],
   "source": [
    "sns.barplot(x='obesity',y='covid_res',data=df_new)"
   ]
  },
  {
   "cell_type": "code",
   "execution_count": 33,
   "metadata": {},
   "outputs": [
    {
     "data": {
      "text/plain": [
       "<matplotlib.axes._subplots.AxesSubplot at 0x1b3c2d15508>"
      ]
     },
     "execution_count": 33,
     "metadata": {},
     "output_type": "execute_result"
    },
    {
     "data": {
      "image/png": "[encoded data removed]",
      "text/plain": [
       "<Figure size 432x288 with 1 Axes>"
      ]
     },
     "metadata": {
      "needs_background": "light"
     },
     "output_type": "display_data"
    }
   ],
   "source": [
    "sns.boxplot(x='tobacco',y='covid_res',data=df_new)"
   ]
  },
  {
   "cell_type": "code",
   "execution_count": 34,
   "metadata": {},
   "outputs": [
    {
     "data": {
      "text/plain": [
       "<matplotlib.axes._subplots.AxesSubplot at 0x1b3c2db20c8>"
      ]
     },
     "execution_count": 34,
     "metadata": {},
     "output_type": "execute_result"
    },
    {
     "data": {
      "image/png": "[encoded data removed]",
      "text/plain": [
       "<Figure size 432x288 with 1 Axes>"
      ]
     },
     "metadata": {
      "needs_background": "light"
     },
     "output_type": "display_data"
    }
   ],
   "source": [
    "sns.violinplot(x='tobacco',y='covid_res',data=df)"
   ]
  },
  {
   "cell_type": "code",
   "execution_count": 35,
   "metadata": {},
   "outputs": [],
   "source": [
    "from sklearn.ensemble import RandomForestClassifier\n",
    "rfc = RandomForestClassifier()"
   ]
  },
  {
   "cell_type": "code",
   "execution_count": 36,
   "metadata": {},
   "outputs": [
    {
     "data": {
      "text/plain": [
       "RandomForestClassifier(bootstrap=True, ccp_alpha=0.0, class_weight=None,\n",
       "                       criterion='gini', max_depth=None, max_features='auto',\n",
       "                       max_leaf_nodes=None, max_samples=None,\n",
       "                       min_impurity_decrease=0.0, min_impurity_split=None,\n",
       "                       min_samples_leaf=1, min_samples_split=2,\n",
       "                       min_weight_fraction_leaf=0.0, n_estimators=100,\n",
       "                       n_jobs=None, oob_score=False, random_state=None,\n",
       "                       verbose=0, warm_start=False)"
      ]
     },
     "execution_count": 36,
     "metadata": {},
     "output_type": "execute_result"
    }
   ],
   "source": [
    "rfc.fit(X_train, y_train)"
   ]
  },
  {
   "cell_type": "code",
   "execution_count": 37,
   "metadata": {},
   "outputs": [
    {
     "data": {
      "text/plain": [
       "array([2, 2, 1, ..., 1, 2, 1], dtype=int64)"
      ]
     },
     "execution_count": 37,
     "metadata": {},
     "output_type": "execute_result"
    }
   ],
   "source": [
    "rfc_pred = rfc.predict(X_test)\n",
    "rfc_pred"
   ]
  },
  {
   "cell_type": "code",
   "execution_count": 38,
   "metadata": {},
   "outputs": [
    {
     "data": {
      "text/plain": [
       "0.5436842941269907"
      ]
     },
     "execution_count": 38,
     "metadata": {},
     "output_type": "execute_result"
    }
   ],
   "source": [
    "accuracy_score(y_test, rfc_pred)"
   ]
  },
  {
   "cell_type": "code",
   "execution_count": 39,
   "metadata": {},
   "outputs": [
    {
     "data": {
      "text/html": [
       "<div>\n",
       "<style scoped>\n",
       "    .dataframe tbody tr th:only-of-type {\n",
       "        vertical-align: middle;\n",
       "    }\n",
       "\n",
       "    .dataframe tbody tr th {\n",
       "        vertical-align: top;\n",
       "    }\n",
       "\n",
       "    .dataframe thead th {\n",
       "        text-align: right;\n",
       "    }\n",
       "</style>\n",
       "<table border=\"1\" class=\"dataframe\">\n",
       "  <thead>\n",
       "    <tr style=\"text-align: right;\">\n",
       "      <th></th>\n",
       "      <th>sex</th>\n",
       "      <th>patient_type</th>\n",
       "      <th>intubed</th>\n",
       "      <th>pneumonia</th>\n",
       "      <th>age</th>\n",
       "      <th>diabetes</th>\n",
       "      <th>asthma</th>\n",
       "      <th>hypertension</th>\n",
       "      <th>cardiovascular</th>\n",
       "      <th>obesity</th>\n",
       "      <th>tobacco</th>\n",
       "      <th>covid_res</th>\n",
       "    </tr>\n",
       "  </thead>\n",
       "  <tbody>\n",
       "    <tr>\n",
       "      <th>339991</th>\n",
       "      <td>1</td>\n",
       "      <td>1</td>\n",
       "      <td>97</td>\n",
       "      <td>2</td>\n",
       "      <td>32</td>\n",
       "      <td>2</td>\n",
       "      <td>2</td>\n",
       "      <td>2</td>\n",
       "      <td>2</td>\n",
       "      <td>2</td>\n",
       "      <td>2</td>\n",
       "      <td>2</td>\n",
       "    </tr>\n",
       "    <tr>\n",
       "      <th>417578</th>\n",
       "      <td>2</td>\n",
       "      <td>1</td>\n",
       "      <td>97</td>\n",
       "      <td>2</td>\n",
       "      <td>82</td>\n",
       "      <td>2</td>\n",
       "      <td>2</td>\n",
       "      <td>2</td>\n",
       "      <td>2</td>\n",
       "      <td>2</td>\n",
       "      <td>2</td>\n",
       "      <td>2</td>\n",
       "    </tr>\n",
       "    <tr>\n",
       "      <th>103785</th>\n",
       "      <td>2</td>\n",
       "      <td>2</td>\n",
       "      <td>2</td>\n",
       "      <td>1</td>\n",
       "      <td>61</td>\n",
       "      <td>1</td>\n",
       "      <td>2</td>\n",
       "      <td>1</td>\n",
       "      <td>1</td>\n",
       "      <td>1</td>\n",
       "      <td>2</td>\n",
       "      <td>1</td>\n",
       "    </tr>\n",
       "    <tr>\n",
       "      <th>399327</th>\n",
       "      <td>1</td>\n",
       "      <td>1</td>\n",
       "      <td>97</td>\n",
       "      <td>2</td>\n",
       "      <td>32</td>\n",
       "      <td>2</td>\n",
       "      <td>2</td>\n",
       "      <td>2</td>\n",
       "      <td>2</td>\n",
       "      <td>2</td>\n",
       "      <td>2</td>\n",
       "      <td>2</td>\n",
       "    </tr>\n",
       "    <tr>\n",
       "      <th>343471</th>\n",
       "      <td>2</td>\n",
       "      <td>1</td>\n",
       "      <td>97</td>\n",
       "      <td>2</td>\n",
       "      <td>17</td>\n",
       "      <td>2</td>\n",
       "      <td>2</td>\n",
       "      <td>2</td>\n",
       "      <td>2</td>\n",
       "      <td>1</td>\n",
       "      <td>2</td>\n",
       "      <td>1</td>\n",
       "    </tr>\n",
       "  </tbody>\n",
       "</table>\n",
       "</div>"
      ],
      "text/plain": [
       "        sex  patient_type  intubed  pneumonia  age  diabetes  asthma  \\\n",
       "339991    1             1       97          2   32         2       2   \n",
       "417578    2             1       97          2   82         2       2   \n",
       "103785    2             2        2          1   61         1       2   \n",
       "399327    1             1       97          2   32         2       2   \n",
       "343471    2             1       97          2   17         2       2   \n",
       "\n",
       "        hypertension  cardiovascular  obesity  tobacco  covid_res  \n",
       "339991             2               2        2        2          2  \n",
       "417578             2               2        2        2          2  \n",
       "103785             1               1        1        2          1  \n",
       "399327             2               2        2        2          2  \n",
       "343471             2               2        1        2          1  "
      ]
     },
     "execution_count": 39,
     "metadata": {},
     "output_type": "execute_result"
    }
   ],
   "source": [
    "df_new1=pd.DataFrame({'sex':X_test['sex'],'patient_type':X_test['patient_type'],'intubed':X_test['intubed'],\n",
    "                     'pneumonia':X_test['pneumonia'],\n",
    "                     'age':X_test['age'],\n",
    "                     'diabetes':X_test['diabetes'],\n",
    "                     'asthma':X_test['asthma'],\n",
    "                     'hypertension':X_test['hypertension'],\n",
    "                     'cardiovascular':X_test['cardiovascular'],\n",
    "                     'obesity':X_test['obesity'],\n",
    "                     'tobacco':X_test['tobacco'],\n",
    "                     \n",
    "                     'covid_res':rfc_pred})\n",
    "df_new.head()"
   ]
  },
  {
   "cell_type": "markdown",
   "metadata": {},
   "source": [
    "## **Dataset 2:**  Healthy Diet Dataset"
   ]
  },
  {
   "cell_type": "code",
   "execution_count": 42,
   "metadata": {},
   "outputs": [],
   "source": [
    "df2=pd.read_csv(\"food.csv\")"
   ]
  },
  {
   "cell_type": "code",
   "execution_count": 43,
   "metadata": {},
   "outputs": [
    {
     "data": {
      "text/html": [
       "<div>\n",
       "<style scoped>\n",
       "    .dataframe tbody tr th:only-of-type {\n",
       "        vertical-align: middle;\n",
       "    }\n",
       "\n",
       "    .dataframe tbody tr th {\n",
       "        vertical-align: top;\n",
       "    }\n",
       "\n",
       "    .dataframe thead th {\n",
       "        text-align: right;\n",
       "    }\n",
       "</style>\n",
       "<table border=\"1\" class=\"dataframe\">\n",
       "  <thead>\n",
       "    <tr style=\"text-align: right;\">\n",
       "      <th></th>\n",
       "      <th>Country</th>\n",
       "      <th>Alcoholic Beverages</th>\n",
       "      <th>Animal fats</th>\n",
       "      <th>Animal Products</th>\n",
       "      <th>Aquatic Products, Other</th>\n",
       "      <th>Cereals - Excluding Beer</th>\n",
       "      <th>Eggs</th>\n",
       "      <th>Fish, Seafood</th>\n",
       "      <th>Fruits - Excluding Wine</th>\n",
       "      <th>Meat</th>\n",
       "      <th>...</th>\n",
       "      <th>Vegetables</th>\n",
       "      <th>Vegetal Products</th>\n",
       "      <th>Obesity</th>\n",
       "      <th>Undernourished</th>\n",
       "      <th>Confirmed</th>\n",
       "      <th>Deaths</th>\n",
       "      <th>Recovered</th>\n",
       "      <th>Active</th>\n",
       "      <th>Population</th>\n",
       "      <th>Unit (all except Population)</th>\n",
       "    </tr>\n",
       "  </thead>\n",
       "  <tbody>\n",
       "    <tr>\n",
       "      <th>0</th>\n",
       "      <td>Afghanistan</td>\n",
       "      <td>0.0014</td>\n",
       "      <td>0.1973</td>\n",
       "      <td>9.4341</td>\n",
       "      <td>0.0</td>\n",
       "      <td>24.8097</td>\n",
       "      <td>0.2099</td>\n",
       "      <td>0.0350</td>\n",
       "      <td>5.3495</td>\n",
       "      <td>1.2020</td>\n",
       "      <td>...</td>\n",
       "      <td>6.7642</td>\n",
       "      <td>40.5645</td>\n",
       "      <td>4.5</td>\n",
       "      <td>29.8</td>\n",
       "      <td>0.098032</td>\n",
       "      <td>0.003602</td>\n",
       "      <td>0.074725</td>\n",
       "      <td>0.019706</td>\n",
       "      <td>38928000.0</td>\n",
       "      <td>%</td>\n",
       "    </tr>\n",
       "    <tr>\n",
       "      <th>1</th>\n",
       "      <td>Albania</td>\n",
       "      <td>1.6719</td>\n",
       "      <td>0.1357</td>\n",
       "      <td>18.7684</td>\n",
       "      <td>0.0</td>\n",
       "      <td>5.7817</td>\n",
       "      <td>0.5815</td>\n",
       "      <td>0.2126</td>\n",
       "      <td>6.7861</td>\n",
       "      <td>1.8845</td>\n",
       "      <td>...</td>\n",
       "      <td>11.7753</td>\n",
       "      <td>31.2304</td>\n",
       "      <td>22.3</td>\n",
       "      <td>6.2</td>\n",
       "      <td>0.330514</td>\n",
       "      <td>0.009866</td>\n",
       "      <td>0.181078</td>\n",
       "      <td>0.139570</td>\n",
       "      <td>2838000.0</td>\n",
       "      <td>%</td>\n",
       "    </tr>\n",
       "    <tr>\n",
       "      <th>2</th>\n",
       "      <td>Algeria</td>\n",
       "      <td>0.2711</td>\n",
       "      <td>0.0282</td>\n",
       "      <td>9.6334</td>\n",
       "      <td>0.0</td>\n",
       "      <td>13.6816</td>\n",
       "      <td>0.5277</td>\n",
       "      <td>0.2416</td>\n",
       "      <td>6.3801</td>\n",
       "      <td>1.1305</td>\n",
       "      <td>...</td>\n",
       "      <td>11.6484</td>\n",
       "      <td>40.3651</td>\n",
       "      <td>26.6</td>\n",
       "      <td>3.9</td>\n",
       "      <td>0.099524</td>\n",
       "      <td>0.003384</td>\n",
       "      <td>0.069838</td>\n",
       "      <td>0.026303</td>\n",
       "      <td>44357000.0</td>\n",
       "      <td>%</td>\n",
       "    </tr>\n",
       "    <tr>\n",
       "      <th>3</th>\n",
       "      <td>Angola</td>\n",
       "      <td>5.8087</td>\n",
       "      <td>0.0560</td>\n",
       "      <td>4.9278</td>\n",
       "      <td>0.0</td>\n",
       "      <td>9.1085</td>\n",
       "      <td>0.0587</td>\n",
       "      <td>1.7707</td>\n",
       "      <td>6.0005</td>\n",
       "      <td>2.0571</td>\n",
       "      <td>...</td>\n",
       "      <td>2.3041</td>\n",
       "      <td>45.0722</td>\n",
       "      <td>6.8</td>\n",
       "      <td>25</td>\n",
       "      <td>0.008068</td>\n",
       "      <td>0.000329</td>\n",
       "      <td>0.003269</td>\n",
       "      <td>0.004471</td>\n",
       "      <td>32522000.0</td>\n",
       "      <td>%</td>\n",
       "    </tr>\n",
       "    <tr>\n",
       "      <th>4</th>\n",
       "      <td>Antigua and Barbuda</td>\n",
       "      <td>3.5764</td>\n",
       "      <td>0.0087</td>\n",
       "      <td>16.6613</td>\n",
       "      <td>0.0</td>\n",
       "      <td>5.9960</td>\n",
       "      <td>0.2274</td>\n",
       "      <td>4.1489</td>\n",
       "      <td>10.7451</td>\n",
       "      <td>5.6888</td>\n",
       "      <td>...</td>\n",
       "      <td>5.4495</td>\n",
       "      <td>33.3233</td>\n",
       "      <td>19.1</td>\n",
       "      <td>NaN</td>\n",
       "      <td>0.095918</td>\n",
       "      <td>0.003061</td>\n",
       "      <td>0.092857</td>\n",
       "      <td>0.000000</td>\n",
       "      <td>98000.0</td>\n",
       "      <td>%</td>\n",
       "    </tr>\n",
       "  </tbody>\n",
       "</table>\n",
       "<p>5 rows × 32 columns</p>\n",
       "</div>"
      ],
      "text/plain": [
       "               Country  Alcoholic Beverages  Animal fats  Animal Products  \\\n",
       "0          Afghanistan               0.0014       0.1973           9.4341   \n",
       "1              Albania               1.6719       0.1357          18.7684   \n",
       "2              Algeria               0.2711       0.0282           9.6334   \n",
       "3               Angola               5.8087       0.0560           4.9278   \n",
       "4  Antigua and Barbuda               3.5764       0.0087          16.6613   \n",
       "\n",
       "   Aquatic Products, Other  Cereals - Excluding Beer    Eggs  Fish, Seafood  \\\n",
       "0                      0.0                   24.8097  0.2099         0.0350   \n",
       "1                      0.0                    5.7817  0.5815         0.2126   \n",
       "2                      0.0                   13.6816  0.5277         0.2416   \n",
       "3                      0.0                    9.1085  0.0587         1.7707   \n",
       "4                      0.0                    5.9960  0.2274         4.1489   \n",
       "\n",
       "   Fruits - Excluding Wine    Meat  ...  Vegetables  Vegetal Products  \\\n",
       "0                   5.3495  1.2020  ...      6.7642           40.5645   \n",
       "1                   6.7861  1.8845  ...     11.7753           31.2304   \n",
       "2                   6.3801  1.1305  ...     11.6484           40.3651   \n",
       "3                   6.0005  2.0571  ...      2.3041           45.0722   \n",
       "4                  10.7451  5.6888  ...      5.4495           33.3233   \n",
       "\n",
       "   Obesity  Undernourished  Confirmed    Deaths  Recovered    Active  \\\n",
       "0      4.5            29.8   0.098032  0.003602   0.074725  0.019706   \n",
       "1     22.3             6.2   0.330514  0.009866   0.181078  0.139570   \n",
       "2     26.6             3.9   0.099524  0.003384   0.069838  0.026303   \n",
       "3      6.8              25   0.008068  0.000329   0.003269  0.004471   \n",
       "4     19.1             NaN   0.095918  0.003061   0.092857  0.000000   \n",
       "\n",
       "   Population  Unit (all except Population)  \n",
       "0  38928000.0                             %  \n",
       "1   2838000.0                             %  \n",
       "2  44357000.0                             %  \n",
       "3  32522000.0                             %  \n",
       "4     98000.0                             %  \n",
       "\n",
       "[5 rows x 32 columns]"
      ]
     },
     "execution_count": 43,
     "metadata": {},
     "output_type": "execute_result"
    }
   ],
   "source": [
    "df2.head()"
   ]
  },
  {
   "cell_type": "code",
   "execution_count": 44,
   "metadata": {},
   "outputs": [
    {
     "name": "stdout",
     "output_type": "stream",
     "text": [
      "<class 'pandas.core.frame.DataFrame'>\n",
      "Int64Index: 151 entries, 0 to 169\n",
      "Data columns (total 32 columns):\n",
      " #   Column                        Non-Null Count  Dtype  \n",
      "---  ------                        --------------  -----  \n",
      " 0   Country                       151 non-null    object \n",
      " 1   Alcoholic Beverages           151 non-null    float64\n",
      " 2   Animal fats                   151 non-null    float64\n",
      " 3   Animal Products               151 non-null    float64\n",
      " 4   Aquatic Products, Other       151 non-null    float64\n",
      " 5   Cereals - Excluding Beer      151 non-null    float64\n",
      " 6   Eggs                          151 non-null    float64\n",
      " 7   Fish, Seafood                 151 non-null    float64\n",
      " 8   Fruits - Excluding Wine       151 non-null    float64\n",
      " 9   Meat                          151 non-null    float64\n",
      " 10  Milk - Excluding Butter       151 non-null    float64\n",
      " 11  Miscellaneous                 151 non-null    float64\n",
      " 12  Offals                        151 non-null    float64\n",
      " 13  Oilcrops                      151 non-null    float64\n",
      " 14  Pulses                        151 non-null    float64\n",
      " 15  Spices                        151 non-null    float64\n",
      " 16  Starchy Roots                 151 non-null    float64\n",
      " 17  Stimulants                    151 non-null    float64\n",
      " 18  Sugar & Sweeteners            151 non-null    float64\n",
      " 19  Sugar Crops                   151 non-null    float64\n",
      " 20  Treenuts                      151 non-null    float64\n",
      " 21  Vegetable Oils                151 non-null    float64\n",
      " 22  Vegetables                    151 non-null    float64\n",
      " 23  Vegetal Products              151 non-null    float64\n",
      " 24  Obesity                       151 non-null    float64\n",
      " 25  Undernourished                151 non-null    object \n",
      " 26  Confirmed                     151 non-null    float64\n",
      " 27  Deaths                        151 non-null    float64\n",
      " 28  Recovered                     151 non-null    float64\n",
      " 29  Active                        151 non-null    float64\n",
      " 30  Population                    151 non-null    float64\n",
      " 31  Unit (all except Population)  151 non-null    object \n",
      "dtypes: float64(29), object(3)\n",
      "memory usage: 38.9+ KB\n"
     ]
    }
   ],
   "source": [
    "df2.dropna(inplace=True)\n",
    "df2.info()"
   ]
  },
  {
   "cell_type": "code",
   "execution_count": 45,
   "metadata": {},
   "outputs": [
    {
     "data": {
      "text/plain": [
       "<matplotlib.axes._subplots.AxesSubplot at 0x1b3c3623b08>"
      ]
     },
     "execution_count": 45,
     "metadata": {},
     "output_type": "execute_result"
    },
    {
     "data": {
      "image/png": "[encoded data removed]",
      "text/plain": [
       "<Figure size 432x288 with 1 Axes>"
      ]
     },
     "metadata": {
      "needs_background": "light"
     },
     "output_type": "display_data"
    }
   ],
   "source": [
    "sns.scatterplot(x='Alcoholic Beverages',y='Confirmed',data=df2)"
   ]
  },
  {
   "cell_type": "code",
   "execution_count": 46,
   "metadata": {},
   "outputs": [
    {
     "data": {
      "text/plain": [
       "<matplotlib.axes._subplots.AxesSubplot at 0x1b3c3f1d508>"
      ]
     },
     "execution_count": 46,
     "metadata": {},
     "output_type": "execute_result"
    },
    {
     "data": {
      "image/png": "[encoded data removed]",
      "text/plain": [
       "<Figure size 432x288 with 1 Axes>"
      ]
     },
     "metadata": {
      "needs_background": "light"
     },
     "output_type": "display_data"
    }
   ],
   "source": [
    "sns.scatterplot(x='Obesity',y='Confirmed',data=df2)"
   ]
  },
  {
   "cell_type": "code",
   "execution_count": 47,
   "metadata": {},
   "outputs": [],
   "source": [
    "X=df2.drop(['Country','Undernourished','Unit (all except Population)','Population'],axis=1)\n",
    "y=df2['Confirmed']"
   ]
  },
  {
   "cell_type": "code",
   "execution_count": 48,
   "metadata": {},
   "outputs": [],
   "source": [
    "from sklearn.model_selection import train_test_split"
   ]
  },
  {
   "cell_type": "code",
   "execution_count": 49,
   "metadata": {},
   "outputs": [],
   "source": [
    "X_train, X_test, y_train, y_test = train_test_split(X, y, test_size=0.30)"
   ]
  },
  {
   "cell_type": "code",
   "execution_count": 50,
   "metadata": {},
   "outputs": [
    {
     "data": {
      "text/html": [
       "<div>\n",
       "<style scoped>\n",
       "    .dataframe tbody tr th:only-of-type {\n",
       "        vertical-align: middle;\n",
       "    }\n",
       "\n",
       "    .dataframe tbody tr th {\n",
       "        vertical-align: top;\n",
       "    }\n",
       "\n",
       "    .dataframe thead th {\n",
       "        text-align: right;\n",
       "    }\n",
       "</style>\n",
       "<table border=\"1\" class=\"dataframe\">\n",
       "  <thead>\n",
       "    <tr style=\"text-align: right;\">\n",
       "      <th></th>\n",
       "      <th>Alcoholic Beverages</th>\n",
       "      <th>Animal fats</th>\n",
       "      <th>Animal Products</th>\n",
       "      <th>Aquatic Products, Other</th>\n",
       "      <th>Cereals - Excluding Beer</th>\n",
       "      <th>Eggs</th>\n",
       "      <th>Fish, Seafood</th>\n",
       "      <th>Fruits - Excluding Wine</th>\n",
       "      <th>Meat</th>\n",
       "      <th>Milk - Excluding Butter</th>\n",
       "      <th>...</th>\n",
       "      <th>Sugar Crops</th>\n",
       "      <th>Treenuts</th>\n",
       "      <th>Vegetable Oils</th>\n",
       "      <th>Vegetables</th>\n",
       "      <th>Vegetal Products</th>\n",
       "      <th>Obesity</th>\n",
       "      <th>Confirmed</th>\n",
       "      <th>Deaths</th>\n",
       "      <th>Recovered</th>\n",
       "      <th>Active</th>\n",
       "    </tr>\n",
       "  </thead>\n",
       "  <tbody>\n",
       "    <tr>\n",
       "      <th>118</th>\n",
       "      <td>6.6254</td>\n",
       "      <td>0.2467</td>\n",
       "      <td>12.3346</td>\n",
       "      <td>0.0031</td>\n",
       "      <td>14.2627</td>\n",
       "      <td>0.4604</td>\n",
       "      <td>1.0050</td>\n",
       "      <td>6.6783</td>\n",
       "      <td>4.9800</td>\n",
       "      <td>5.3530</td>\n",
       "      <td>...</td>\n",
       "      <td>0.0000</td>\n",
       "      <td>0.0360</td>\n",
       "      <td>0.7645</td>\n",
       "      <td>1.9480</td>\n",
       "      <td>37.6619</td>\n",
       "      <td>22.5</td>\n",
       "      <td>2.149545</td>\n",
       "      <td>0.046580</td>\n",
       "      <td>1.535069</td>\n",
       "      <td>0.567896</td>\n",
       "    </tr>\n",
       "    <tr>\n",
       "      <th>96</th>\n",
       "      <td>2.8904</td>\n",
       "      <td>0.0444</td>\n",
       "      <td>10.1637</td>\n",
       "      <td>0.0000</td>\n",
       "      <td>19.8566</td>\n",
       "      <td>0.0573</td>\n",
       "      <td>0.7543</td>\n",
       "      <td>3.8991</td>\n",
       "      <td>1.9124</td>\n",
       "      <td>7.1206</td>\n",
       "      <td>...</td>\n",
       "      <td>0.0000</td>\n",
       "      <td>0.2374</td>\n",
       "      <td>0.5144</td>\n",
       "      <td>7.2943</td>\n",
       "      <td>39.8262</td>\n",
       "      <td>7.1</td>\n",
       "      <td>0.013693</td>\n",
       "      <td>0.000622</td>\n",
       "      <td>0.010711</td>\n",
       "      <td>0.002360</td>\n",
       "    </tr>\n",
       "    <tr>\n",
       "      <th>87</th>\n",
       "      <td>0.7164</td>\n",
       "      <td>0.0796</td>\n",
       "      <td>8.0679</td>\n",
       "      <td>0.0000</td>\n",
       "      <td>11.8253</td>\n",
       "      <td>0.1730</td>\n",
       "      <td>0.7091</td>\n",
       "      <td>6.9852</td>\n",
       "      <td>1.9469</td>\n",
       "      <td>5.0748</td>\n",
       "      <td>...</td>\n",
       "      <td>0.0000</td>\n",
       "      <td>0.5271</td>\n",
       "      <td>1.4807</td>\n",
       "      <td>10.5128</td>\n",
       "      <td>41.9252</td>\n",
       "      <td>31.3</td>\n",
       "      <td>0.247179</td>\n",
       "      <td>0.002344</td>\n",
       "      <td>0.068762</td>\n",
       "      <td>0.176073</td>\n",
       "    </tr>\n",
       "    <tr>\n",
       "      <th>46</th>\n",
       "      <td>6.1949</td>\n",
       "      <td>0.4556</td>\n",
       "      <td>22.3154</td>\n",
       "      <td>0.0005</td>\n",
       "      <td>6.3498</td>\n",
       "      <td>0.6145</td>\n",
       "      <td>0.7127</td>\n",
       "      <td>3.5061</td>\n",
       "      <td>3.0810</td>\n",
       "      <td>17.3068</td>\n",
       "      <td>...</td>\n",
       "      <td>0.0000</td>\n",
       "      <td>0.0886</td>\n",
       "      <td>0.3472</td>\n",
       "      <td>4.9558</td>\n",
       "      <td>27.6779</td>\n",
       "      <td>23.8</td>\n",
       "      <td>0.178287</td>\n",
       "      <td>0.004808</td>\n",
       "      <td>0.156875</td>\n",
       "      <td>0.016604</td>\n",
       "    </tr>\n",
       "    <tr>\n",
       "      <th>20</th>\n",
       "      <td>4.3629</td>\n",
       "      <td>0.2803</td>\n",
       "      <td>17.3470</td>\n",
       "      <td>0.0000</td>\n",
       "      <td>8.4292</td>\n",
       "      <td>0.5042</td>\n",
       "      <td>0.5899</td>\n",
       "      <td>6.0936</td>\n",
       "      <td>6.4784</td>\n",
       "      <td>9.3416</td>\n",
       "      <td>...</td>\n",
       "      <td>1.0111</td>\n",
       "      <td>0.0513</td>\n",
       "      <td>1.2823</td>\n",
       "      <td>3.3070</td>\n",
       "      <td>32.6537</td>\n",
       "      <td>22.3</td>\n",
       "      <td>1.823462</td>\n",
       "      <td>0.057045</td>\n",
       "      <td>1.528532</td>\n",
       "      <td>0.237885</td>\n",
       "    </tr>\n",
       "  </tbody>\n",
       "</table>\n",
       "<p>5 rows × 28 columns</p>\n",
       "</div>"
      ],
      "text/plain": [
       "     Alcoholic Beverages  Animal fats  Animal Products  \\\n",
       "118               6.6254       0.2467          12.3346   \n",
       "96                2.8904       0.0444          10.1637   \n",
       "87                0.7164       0.0796           8.0679   \n",
       "46                6.1949       0.4556          22.3154   \n",
       "20                4.3629       0.2803          17.3470   \n",
       "\n",
       "     Aquatic Products, Other  Cereals - Excluding Beer    Eggs  Fish, Seafood  \\\n",
       "118                   0.0031                   14.2627  0.4604         1.0050   \n",
       "96                    0.0000                   19.8566  0.0573         0.7543   \n",
       "87                    0.0000                   11.8253  0.1730         0.7091   \n",
       "46                    0.0005                    6.3498  0.6145         0.7127   \n",
       "20                    0.0000                    8.4292  0.5042         0.5899   \n",
       "\n",
       "     Fruits - Excluding Wine    Meat  Milk - Excluding Butter  ...  \\\n",
       "118                   6.6783  4.9800                   5.3530  ...   \n",
       "96                    3.8991  1.9124                   7.1206  ...   \n",
       "87                    6.9852  1.9469                   5.0748  ...   \n",
       "46                    3.5061  3.0810                  17.3068  ...   \n",
       "20                    6.0936  6.4784                   9.3416  ...   \n",
       "\n",
       "     Sugar Crops  Treenuts  Vegetable Oils  Vegetables  Vegetal Products  \\\n",
       "118       0.0000    0.0360          0.7645      1.9480           37.6619   \n",
       "96        0.0000    0.2374          0.5144      7.2943           39.8262   \n",
       "87        0.0000    0.5271          1.4807     10.5128           41.9252   \n",
       "46        0.0000    0.0886          0.3472      4.9558           27.6779   \n",
       "20        1.0111    0.0513          1.2823      3.3070           32.6537   \n",
       "\n",
       "     Obesity  Confirmed    Deaths  Recovered    Active  \n",
       "118     22.5   2.149545  0.046580   1.535069  0.567896  \n",
       "96       7.1   0.013693  0.000622   0.010711  0.002360  \n",
       "87      31.3   0.247179  0.002344   0.068762  0.176073  \n",
       "46      23.8   0.178287  0.004808   0.156875  0.016604  \n",
       "20      22.3   1.823462  0.057045   1.528532  0.237885  \n",
       "\n",
       "[5 rows x 28 columns]"
      ]
     },
     "execution_count": 50,
     "metadata": {},
     "output_type": "execute_result"
    }
   ],
   "source": [
    "X_train.head()"
   ]
  },
  {
   "cell_type": "code",
   "execution_count": 51,
   "metadata": {},
   "outputs": [
    {
     "data": {
      "text/html": [
       "<div>\n",
       "<style scoped>\n",
       "    .dataframe tbody tr th:only-of-type {\n",
       "        vertical-align: middle;\n",
       "    }\n",
       "\n",
       "    .dataframe tbody tr th {\n",
       "        vertical-align: top;\n",
       "    }\n",
       "\n",
       "    .dataframe thead th {\n",
       "        text-align: right;\n",
       "    }\n",
       "</style>\n",
       "<table border=\"1\" class=\"dataframe\">\n",
       "  <thead>\n",
       "    <tr style=\"text-align: right;\">\n",
       "      <th></th>\n",
       "      <th>Alcoholic Beverages</th>\n",
       "      <th>Animal fats</th>\n",
       "      <th>Animal Products</th>\n",
       "      <th>Aquatic Products, Other</th>\n",
       "      <th>Cereals - Excluding Beer</th>\n",
       "      <th>Eggs</th>\n",
       "      <th>Fish, Seafood</th>\n",
       "      <th>Fruits - Excluding Wine</th>\n",
       "      <th>Meat</th>\n",
       "      <th>Milk - Excluding Butter</th>\n",
       "      <th>...</th>\n",
       "      <th>Sugar Crops</th>\n",
       "      <th>Treenuts</th>\n",
       "      <th>Vegetable Oils</th>\n",
       "      <th>Vegetables</th>\n",
       "      <th>Vegetal Products</th>\n",
       "      <th>Obesity</th>\n",
       "      <th>Confirmed</th>\n",
       "      <th>Deaths</th>\n",
       "      <th>Recovered</th>\n",
       "      <th>Active</th>\n",
       "    </tr>\n",
       "  </thead>\n",
       "  <tbody>\n",
       "    <tr>\n",
       "      <th>34</th>\n",
       "      <td>1.4487</td>\n",
       "      <td>0.0132</td>\n",
       "      <td>2.9144</td>\n",
       "      <td>0.0000</td>\n",
       "      <td>11.4585</td>\n",
       "      <td>0.1587</td>\n",
       "      <td>1.3914</td>\n",
       "      <td>4.8741</td>\n",
       "      <td>0.9586</td>\n",
       "      <td>0.1285</td>\n",
       "      <td>...</td>\n",
       "      <td>0.0000</td>\n",
       "      <td>0.5443</td>\n",
       "      <td>0.8656</td>\n",
       "      <td>2.8098</td>\n",
       "      <td>47.0806</td>\n",
       "      <td>9.0</td>\n",
       "      <td>0.068569</td>\n",
       "      <td>0.000439</td>\n",
       "      <td>0.063240</td>\n",
       "      <td>0.004890</td>\n",
       "    </tr>\n",
       "    <tr>\n",
       "      <th>98</th>\n",
       "      <td>0.0055</td>\n",
       "      <td>0.1127</td>\n",
       "      <td>15.0193</td>\n",
       "      <td>0.0000</td>\n",
       "      <td>20.4873</td>\n",
       "      <td>0.2539</td>\n",
       "      <td>1.0025</td>\n",
       "      <td>1.2991</td>\n",
       "      <td>3.3994</td>\n",
       "      <td>9.8250</td>\n",
       "      <td>...</td>\n",
       "      <td>0.0000</td>\n",
       "      <td>0.0000</td>\n",
       "      <td>1.5716</td>\n",
       "      <td>3.9784</td>\n",
       "      <td>34.9779</td>\n",
       "      <td>11.3</td>\n",
       "      <td>0.150882</td>\n",
       "      <td>0.003419</td>\n",
       "      <td>0.138280</td>\n",
       "      <td>0.009183</td>\n",
       "    </tr>\n",
       "    <tr>\n",
       "      <th>0</th>\n",
       "      <td>0.0014</td>\n",
       "      <td>0.1973</td>\n",
       "      <td>9.4341</td>\n",
       "      <td>0.0000</td>\n",
       "      <td>24.8097</td>\n",
       "      <td>0.2099</td>\n",
       "      <td>0.0350</td>\n",
       "      <td>5.3495</td>\n",
       "      <td>1.2020</td>\n",
       "      <td>7.5828</td>\n",
       "      <td>...</td>\n",
       "      <td>0.0000</td>\n",
       "      <td>0.0770</td>\n",
       "      <td>0.5345</td>\n",
       "      <td>6.7642</td>\n",
       "      <td>40.5645</td>\n",
       "      <td>4.5</td>\n",
       "      <td>0.098032</td>\n",
       "      <td>0.003602</td>\n",
       "      <td>0.074725</td>\n",
       "      <td>0.019706</td>\n",
       "    </tr>\n",
       "    <tr>\n",
       "      <th>21</th>\n",
       "      <td>7.0834</td>\n",
       "      <td>0.2488</td>\n",
       "      <td>17.2483</td>\n",
       "      <td>0.0103</td>\n",
       "      <td>8.8750</td>\n",
       "      <td>0.5924</td>\n",
       "      <td>0.4845</td>\n",
       "      <td>3.9812</td>\n",
       "      <td>4.0073</td>\n",
       "      <td>11.5992</td>\n",
       "      <td>...</td>\n",
       "      <td>0.0000</td>\n",
       "      <td>0.0797</td>\n",
       "      <td>0.7085</td>\n",
       "      <td>6.2037</td>\n",
       "      <td>32.7435</td>\n",
       "      <td>27.4</td>\n",
       "      <td>0.233723</td>\n",
       "      <td>0.008849</td>\n",
       "      <td>0.163317</td>\n",
       "      <td>0.061556</td>\n",
       "    </tr>\n",
       "    <tr>\n",
       "      <th>24</th>\n",
       "      <td>4.5783</td>\n",
       "      <td>0.0377</td>\n",
       "      <td>6.0800</td>\n",
       "      <td>0.0000</td>\n",
       "      <td>24.8906</td>\n",
       "      <td>0.1310</td>\n",
       "      <td>4.2369</td>\n",
       "      <td>2.3184</td>\n",
       "      <td>1.2247</td>\n",
       "      <td>0.3285</td>\n",
       "      <td>...</td>\n",
       "      <td>0.8367</td>\n",
       "      <td>0.0238</td>\n",
       "      <td>0.2511</td>\n",
       "      <td>3.0072</td>\n",
       "      <td>43.9195</td>\n",
       "      <td>3.5</td>\n",
       "      <td>0.001762</td>\n",
       "      <td>0.000000</td>\n",
       "      <td>0.001710</td>\n",
       "      <td>0.000052</td>\n",
       "    </tr>\n",
       "  </tbody>\n",
       "</table>\n",
       "<p>5 rows × 28 columns</p>\n",
       "</div>"
      ],
      "text/plain": [
       "    Alcoholic Beverages  Animal fats  Animal Products  \\\n",
       "34               1.4487       0.0132           2.9144   \n",
       "98               0.0055       0.1127          15.0193   \n",
       "0                0.0014       0.1973           9.4341   \n",
       "21               7.0834       0.2488          17.2483   \n",
       "24               4.5783       0.0377           6.0800   \n",
       "\n",
       "    Aquatic Products, Other  Cereals - Excluding Beer    Eggs  Fish, Seafood  \\\n",
       "34                   0.0000                   11.4585  0.1587         1.3914   \n",
       "98                   0.0000                   20.4873  0.2539         1.0025   \n",
       "0                    0.0000                   24.8097  0.2099         0.0350   \n",
       "21                   0.0103                    8.8750  0.5924         0.4845   \n",
       "24                   0.0000                   24.8906  0.1310         4.2369   \n",
       "\n",
       "    Fruits - Excluding Wine    Meat  Milk - Excluding Butter  ...  \\\n",
       "34                   4.8741  0.9586                   0.1285  ...   \n",
       "98                   1.2991  3.3994                   9.8250  ...   \n",
       "0                    5.3495  1.2020                   7.5828  ...   \n",
       "21                   3.9812  4.0073                  11.5992  ...   \n",
       "24                   2.3184  1.2247                   0.3285  ...   \n",
       "\n",
       "    Sugar Crops  Treenuts  Vegetable Oils  Vegetables  Vegetal Products  \\\n",
       "34       0.0000    0.5443          0.8656      2.8098           47.0806   \n",
       "98       0.0000    0.0000          1.5716      3.9784           34.9779   \n",
       "0        0.0000    0.0770          0.5345      6.7642           40.5645   \n",
       "21       0.0000    0.0797          0.7085      6.2037           32.7435   \n",
       "24       0.8367    0.0238          0.2511      3.0072           43.9195   \n",
       "\n",
       "    Obesity  Confirmed    Deaths  Recovered    Active  \n",
       "34      9.0   0.068569  0.000439   0.063240  0.004890  \n",
       "98     11.3   0.150882  0.003419   0.138280  0.009183  \n",
       "0       4.5   0.098032  0.003602   0.074725  0.019706  \n",
       "21     27.4   0.233723  0.008849   0.163317  0.061556  \n",
       "24      3.5   0.001762  0.000000   0.001710  0.000052  \n",
       "\n",
       "[5 rows x 28 columns]"
      ]
     },
     "execution_count": 51,
     "metadata": {},
     "output_type": "execute_result"
    }
   ],
   "source": [
    "X_test.head()"
   ]
  },
  {
   "cell_type": "code",
   "execution_count": 52,
   "metadata": {},
   "outputs": [],
   "source": [
    "from sklearn.linear_model import LinearRegression"
   ]
  },
  {
   "cell_type": "code",
   "execution_count": 53,
   "metadata": {},
   "outputs": [],
   "source": [
    "lr=LinearRegression()"
   ]
  },
  {
   "cell_type": "code",
   "execution_count": 54,
   "metadata": {},
   "outputs": [
    {
     "data": {
      "text/plain": [
       "LinearRegression(copy_X=True, fit_intercept=True, n_jobs=None, normalize=False)"
      ]
     },
     "execution_count": 54,
     "metadata": {},
     "output_type": "execute_result"
    }
   ],
   "source": [
    "lr.fit(X_train,y_train)"
   ]
  },
  {
   "cell_type": "code",
   "execution_count": 55,
   "metadata": {},
   "outputs": [],
   "source": [
    "y_pred=lr.predict(X_test)"
   ]
  },
  {
   "cell_type": "code",
   "execution_count": 56,
   "metadata": {},
   "outputs": [
    {
     "data": {
      "text/html": [
       "<div>\n",
       "<style scoped>\n",
       "    .dataframe tbody tr th:only-of-type {\n",
       "        vertical-align: middle;\n",
       "    }\n",
       "\n",
       "    .dataframe tbody tr th {\n",
       "        vertical-align: top;\n",
       "    }\n",
       "\n",
       "    .dataframe thead th {\n",
       "        text-align: right;\n",
       "    }\n",
       "</style>\n",
       "<table border=\"1\" class=\"dataframe\">\n",
       "  <thead>\n",
       "    <tr style=\"text-align: right;\">\n",
       "      <th></th>\n",
       "      <th>Alcoholic Beverages</th>\n",
       "      <th>Animal fats</th>\n",
       "      <th>Eggs</th>\n",
       "      <th>Meat</th>\n",
       "      <th>Sugar Crops</th>\n",
       "      <th>Treenuts</th>\n",
       "      <th>Vegetable Oils</th>\n",
       "      <th>Obesity</th>\n",
       "      <th>Animal Products</th>\n",
       "      <th>Aquatic Products, Other</th>\n",
       "      <th>Fruits - Excluding Wine</th>\n",
       "      <th>confirmed</th>\n",
       "    </tr>\n",
       "  </thead>\n",
       "  <tbody>\n",
       "    <tr>\n",
       "      <th>34</th>\n",
       "      <td>1.4487</td>\n",
       "      <td>0.0132</td>\n",
       "      <td>0.1587</td>\n",
       "      <td>0.9586</td>\n",
       "      <td>0.0000</td>\n",
       "      <td>0.5443</td>\n",
       "      <td>0.8656</td>\n",
       "      <td>9.0</td>\n",
       "      <td>2.9144</td>\n",
       "      <td>0.0000</td>\n",
       "      <td>4.8741</td>\n",
       "      <td>0.068569</td>\n",
       "    </tr>\n",
       "    <tr>\n",
       "      <th>98</th>\n",
       "      <td>0.0055</td>\n",
       "      <td>0.1127</td>\n",
       "      <td>0.2539</td>\n",
       "      <td>3.3994</td>\n",
       "      <td>0.0000</td>\n",
       "      <td>0.0000</td>\n",
       "      <td>1.5716</td>\n",
       "      <td>11.3</td>\n",
       "      <td>15.0193</td>\n",
       "      <td>0.0000</td>\n",
       "      <td>1.2991</td>\n",
       "      <td>0.150882</td>\n",
       "    </tr>\n",
       "    <tr>\n",
       "      <th>0</th>\n",
       "      <td>0.0014</td>\n",
       "      <td>0.1973</td>\n",
       "      <td>0.2099</td>\n",
       "      <td>1.2020</td>\n",
       "      <td>0.0000</td>\n",
       "      <td>0.0770</td>\n",
       "      <td>0.5345</td>\n",
       "      <td>4.5</td>\n",
       "      <td>9.4341</td>\n",
       "      <td>0.0000</td>\n",
       "      <td>5.3495</td>\n",
       "      <td>0.098032</td>\n",
       "    </tr>\n",
       "    <tr>\n",
       "      <th>21</th>\n",
       "      <td>7.0834</td>\n",
       "      <td>0.2488</td>\n",
       "      <td>0.5924</td>\n",
       "      <td>4.0073</td>\n",
       "      <td>0.0000</td>\n",
       "      <td>0.0797</td>\n",
       "      <td>0.7085</td>\n",
       "      <td>27.4</td>\n",
       "      <td>17.2483</td>\n",
       "      <td>0.0103</td>\n",
       "      <td>3.9812</td>\n",
       "      <td>0.233723</td>\n",
       "    </tr>\n",
       "    <tr>\n",
       "      <th>24</th>\n",
       "      <td>4.5783</td>\n",
       "      <td>0.0377</td>\n",
       "      <td>0.1310</td>\n",
       "      <td>1.2247</td>\n",
       "      <td>0.8367</td>\n",
       "      <td>0.0238</td>\n",
       "      <td>0.2511</td>\n",
       "      <td>3.5</td>\n",
       "      <td>6.0800</td>\n",
       "      <td>0.0000</td>\n",
       "      <td>2.3184</td>\n",
       "      <td>0.001762</td>\n",
       "    </tr>\n",
       "  </tbody>\n",
       "</table>\n",
       "</div>"
      ],
      "text/plain": [
       "    Alcoholic Beverages  Animal fats    Eggs    Meat  Sugar Crops  Treenuts  \\\n",
       "34               1.4487       0.0132  0.1587  0.9586       0.0000    0.5443   \n",
       "98               0.0055       0.1127  0.2539  3.3994       0.0000    0.0000   \n",
       "0                0.0014       0.1973  0.2099  1.2020       0.0000    0.0770   \n",
       "21               7.0834       0.2488  0.5924  4.0073       0.0000    0.0797   \n",
       "24               4.5783       0.0377  0.1310  1.2247       0.8367    0.0238   \n",
       "\n",
       "    Vegetable Oils  Obesity  Animal Products  Aquatic Products, Other  \\\n",
       "34          0.8656      9.0           2.9144                   0.0000   \n",
       "98          1.5716     11.3          15.0193                   0.0000   \n",
       "0           0.5345      4.5           9.4341                   0.0000   \n",
       "21          0.7085     27.4          17.2483                   0.0103   \n",
       "24          0.2511      3.5           6.0800                   0.0000   \n",
       "\n",
       "    Fruits - Excluding Wine  confirmed  \n",
       "34                   4.8741   0.068569  \n",
       "98                   1.2991   0.150882  \n",
       "0                    5.3495   0.098032  \n",
       "21                   3.9812   0.233723  \n",
       "24                   2.3184   0.001762  "
      ]
     },
     "execution_count": 56,
     "metadata": {},
     "output_type": "execute_result"
    }
   ],
   "source": [
    "df_new_h=pd.DataFrame({'Alcoholic Beverages':X_test['Alcoholic Beverages'],'Animal fats':X_test['Animal fats'],'Eggs':X_test['Eggs'],\n",
    "                     'Meat':X_test['Meat'],\n",
    "                      'Sugar Crops':X_test['Sugar Crops'],\n",
    "                     'Treenuts':X_test['Treenuts'],\n",
    "                     'Vegetable Oils':X_test['Vegetable Oils'],\n",
    "                     'Obesity':X_test['Obesity'],\n",
    "                     'Animal Products':X_test['Animal Products'],\n",
    "                     'Aquatic Products, Other':X_test['Aquatic Products, Other'],\n",
    "                     'Fruits - Excluding Wine':X_test['Fruits - Excluding Wine'],\n",
    "                     \n",
    "                     'confirmed':y_pred})\n",
    "df_new_h.head()"
   ]
  },
  {
   "cell_type": "code",
   "execution_count": 57,
   "metadata": {},
   "outputs": [
    {
     "data": {
      "text/plain": [
       "<seaborn.axisgrid.FacetGrid at 0x1b3c3f8cb08>"
      ]
     },
     "execution_count": 57,
     "metadata": {},
     "output_type": "execute_result"
    },
    {
     "data": {
      "image/png": "[encoded data removed]",
      "text/plain": [
       "<Figure size 360x360 with 1 Axes>"
      ]
     },
     "metadata": {
      "needs_background": "light"
     },
     "output_type": "display_data"
    }
   ],
   "source": [
    "sns.lmplot(x='Alcoholic Beverages', y='confirmed', data=df_new_h)"
   ]
  },
  {
   "cell_type": "code",
   "execution_count": 58,
   "metadata": {},
   "outputs": [
    {
     "data": {
      "text/plain": [
       "<seaborn.axisgrid.FacetGrid at 0x1b3c338ec08>"
      ]
     },
     "execution_count": 58,
     "metadata": {},
     "output_type": "execute_result"
    },
    {
     "data": {
      "image/png": "[encoded data removed]",
      "text/plain": [
       "<Figure size 360x360 with 1 Axes>"
      ]
     },
     "metadata": {
      "needs_background": "light"
     },
     "output_type": "display_data"
    }
   ],
   "source": [
    "sns.lmplot(x='Eggs', y='confirmed', data=df_new_h)"
   ]
  },
  {
   "cell_type": "code",
   "execution_count": 59,
   "metadata": {},
   "outputs": [
    {
     "data": {
      "text/plain": [
       "<seaborn.axisgrid.JointGrid at 0x1b3c3412408>"
      ]
     },
     "execution_count": 59,
     "metadata": {},
     "output_type": "execute_result"
    },
    {
     "data": {
      "image/png": "[encoded data removed]",
      "text/plain": [
       "<Figure size 432x432 with 3 Axes>"
      ]
     },
     "metadata": {
      "needs_background": "light"
     },
     "output_type": "display_data"
    }
   ],
   "source": [
    "sns.jointplot(x='Meat', y='confirmed', data=df_new_h)"
   ]
  },
  {
   "cell_type": "markdown",
   "metadata": {},
   "source": [
    "## **Dataset 3:**  X-Ray Dataset"
   ]
  },
  {
   "cell_type": "code",
   "execution_count": null,
   "metadata": {
    "colab": {},
    "colab_type": "code",
    "id": "GB8x7eSlSyKR"
   },
   "outputs": [],
   "source": [
    "#X RAY DATASET\n",
    "import numpy as np\n",
    "import pandas as pd\n",
    "import matplotlib.pyplot as plt\n",
    "from sklearn.model_selection import train_test_split\n",
    "import os\n",
    "import shutil\n",
    "import glob\n",
    "import cv2\n",
    "import tensorflow as tf\n",
    "from tensorflow.keras.preprocessing.image import ImageDataGenerator\n",
    "from tensorflow.keras.applications import VGG16\n",
    "from tensorflow.keras.layers import AveragePooling2D\n",
    "from tensorflow.keras.layers import Dropout\n",
    "from tensorflow.keras.layers import Flatten\n",
    "from tensorflow.keras.layers import Dense\n",
    "from tensorflow.keras.layers import Input\n",
    "from tensorflow.keras.models import Model\n",
    "from tensorflow.keras.optimizers import Adam\n",
    "from tensorflow.keras.utils import to_categorical"
   ]
  },
  {
   "cell_type": "code",
   "execution_count": null,
   "metadata": {
    "colab": {},
    "colab_type": "code",
    "id": "vrZVcunMxlCJ"
   },
   "outputs": [],
   "source": [
    "#mounting Google Drive for importing dataset"
   ]
  },
  {
   "cell_type": "code",
   "execution_count": null,
   "metadata": {
    "colab": {},
    "colab_type": "code",
    "id": "MWOZryFd_uyS"
   },
   "outputs": [],
   "source": [
    "#Importing COVID+Pneunomia dataset as Infectious\n",
    "for root, dirs, files in os.walk('/content/drive/My Drive/Pneunomia Vs Normal/Infectious'):\n",
    "    if not os.path.isdir('data/infectious'):\n",
    "        os.makedirs('data/infectious')\n",
    "    for file in files:\n",
    "    #    if file in covid_files:\n",
    "            shutil.copy(os.path.join(root, file),'data/infectious')"
   ]
  },
  {
   "cell_type": "code",
   "execution_count": null,
   "metadata": {
    "colab": {},
    "colab_type": "code",
    "id": "eIzsXoAHuRsg"
   },
   "outputs": [],
   "source": [
    "filenames = glob.glob('data/infectious/*')\n",
    "images = [cv2.imread(img) for img in filenames]\n",
    "infectious = []\n",
    "for img in images:\n",
    "    imge = cv2.cvtColor(img,cv2.COLOR_BGR2RGB)\n",
    "    resized = cv2.resize(imge,(224,224), interpolation = cv2.INTER_AREA)\n",
    "    #plt.imshow(resized)\n",
    "    #plt.show()\n",
    "    infectious.append(resized)\n",
    "infectious = np.array(infectious) / 255.0"
   ]
  },
  {
   "cell_type": "code",
   "execution_count": null,
   "metadata": {
    "colab": {},
    "colab_type": "code",
    "id": "bVBoxbCexdfM"
   },
   "outputs": [],
   "source": [
    "#importing Normal dataset\n",
    "for root, dirs, files in os.walk('/content/drive/My Drive/Pneunomia Vs Normal/NORMAL'):\n",
    "    if not os.path.isdir('data/normal'):\n",
    "        os.makedirs('data/normal')\n",
    "    for file in files:\n",
    "    #    if file in covid_files:\n",
    "            shutil.copy(os.path.join(root, file),'data/normal')"
   ]
  },
  {
   "cell_type": "code",
   "execution_count": null,
   "metadata": {
    "colab": {},
    "colab_type": "code",
    "id": "sFWfFT-xyH0x"
   },
   "outputs": [],
   "source": [
    "filenames = glob.glob('data/normal/*')\n",
    "images = [cv2.imread(img) for img in filenames]\n",
    "normal = []\n",
    "for img in images:\n",
    "    imge = cv2.cvtColor(img,cv2.COLOR_BGR2RGB)\n",
    "    resized = cv2.resize(imge,(224,224), interpolation = cv2.INTER_AREA)\n",
    "    #plt.imshow(resized)\n",
    "    #plt.show()\n",
    "    normal.append(resized)\n",
    "normal = np.array(normal) / 255.0"
   ]
  },
  {
   "cell_type": "code",
   "execution_count": null,
   "metadata": {
    "colab": {
     "base_uri": "https://localhost:8080/",
     "height": 54
    },
    "colab_type": "code",
    "id": "7xgdIVcGzD07",
    "outputId": "b1accb35-f4bd-453d-e901-edb2655fa833"
   },
   "outputs": [
    {
     "name": "stdout",
     "output_type": "stream",
     "text": [
      "Number of Infected Images: 1202\n",
      "Number of Normal Images: 245\n"
     ]
    }
   ],
   "source": [
    "print('Number of Infected Images: ' + str(infectious.shape[0]))\n",
    "print('Number of Normal Images: ' + str(normal.shape[0]))\n",
    "\n",
    "infectious_labels = np.ones(infectious.shape[0]) \n",
    "normal_labels = np.zeros(normal.shape[0])\n",
    "X = np.vstack((infectious,normal))\n",
    "y = np.hstack((infectious_labels,normal_labels))\n",
    "y = to_categorical(y)"
   ]
  },
  {
   "cell_type": "code",
   "execution_count": null,
   "metadata": {
    "colab": {},
    "colab_type": "code",
    "id": "9vCi6wQ4zmBW"
   },
   "outputs": [],
   "source": [
    "#spliiting dataset for training and testing \n",
    "X_train, X_test, y_train, y_test = train_test_split(X, y, test_size=0.25, random_state=3169)"
   ]
  },
  {
   "cell_type": "code",
   "execution_count": null,
   "metadata": {
    "colab": {},
    "colab_type": "code",
    "id": "4f_rO8hvzrAZ"
   },
   "outputs": [],
   "source": [
    "trainAug = ImageDataGenerator(rotation_range=15,fill_mode=\"nearest\")"
   ]
  },
  {
   "cell_type": "code",
   "execution_count": null,
   "metadata": {
    "colab": {
     "base_uri": "https://localhost:8080/",
     "height": 54
    },
    "colab_type": "code",
    "id": "SIIVswUxztgj",
    "outputId": "f70749c2-2d8f-44cf-d59a-200079d2a3ea"
   },
   "outputs": [
    {
     "name": "stdout",
     "output_type": "stream",
     "text": [
      "Downloading data from https://storage.googleapis.com/tensorflow/keras-applications/vgg16/vgg16_weights_tf_dim_ordering_tf_kernels_notop.h5\n",
      "58892288/58889256 [==============================] - 1s 0us/step\n"
     ]
    }
   ],
   "source": [
    "#Applying VGG16 CNN model for training\n",
    "baseModel = VGG16(weights=\"imagenet\", include_top = False,input_tensor=Input(shape=(224,224,3)))"
   ]
  },
  {
   "cell_type": "code",
   "execution_count": null,
   "metadata": {
    "colab": {},
    "colab_type": "code",
    "id": "b395UIhNzvYU"
   },
   "outputs": [],
   "source": [
    "headModel = baseModel.output\n",
    "headModel = AveragePooling2D(pool_size=(4, 4))(headModel)\n",
    "headModel = Flatten(name=\"flatten\")(headModel)\n",
    "headModel = Dense(64, activation=\"relu\")(headModel)\n",
    "headModel = Dropout(0.4)(headModel)\n",
    "headModel = Dense(2, activation=\"softmax\")(headModel)"
   ]
  },
  {
   "cell_type": "code",
   "execution_count": null,
   "metadata": {
    "colab": {},
    "colab_type": "code",
    "id": "8dVuBj11zyvq"
   },
   "outputs": [],
   "source": [
    "model = Model(inputs=baseModel.input, outputs=headModel)\n",
    "for layer in baseModel.layers:\n",
    "    layer.trainable = False"
   ]
  },
  {
   "cell_type": "code",
   "execution_count": null,
   "metadata": {
    "colab": {},
    "colab_type": "code",
    "id": "JuJzDurlz1DY"
   },
   "outputs": [],
   "source": [
    "opt = Adam(lr=1e-3, decay=1e-3 / 10)\n",
    "model.compile(loss=\"binary_crossentropy\", optimizer=opt,metrics=[\"accuracy\"])"
   ]
  },
  {
   "cell_type": "code",
   "execution_count": null,
   "metadata": {
    "colab": {
     "base_uri": "https://localhost:8080/",
     "height": 1000
    },
    "colab_type": "code",
    "id": "WQebfINWzFuf",
    "outputId": "76eb7c4f-18dc-42db-8c67-c8df6242390a"
   },
   "outputs": [
    {
     "name": "stdout",
     "output_type": "stream",
     "text": [
      "Model: \"model\"\n",
      "_________________________________________________________________\n",
      "Layer (type)                 Output Shape              Param #   \n",
      "=================================================================\n",
      "input_1 (InputLayer)         [(None, 224, 224, 3)]     0         \n",
      "_________________________________________________________________\n",
      "block1_conv1 (Conv2D)        (None, 224, 224, 64)      1792      \n",
      "_________________________________________________________________\n",
      "block1_conv2 (Conv2D)        (None, 224, 224, 64)      36928     \n",
      "_________________________________________________________________\n",
      "block1_pool (MaxPooling2D)   (None, 112, 112, 64)      0         \n",
      "_________________________________________________________________\n",
      "block2_conv1 (Conv2D)        (None, 112, 112, 128)     73856     \n",
      "_________________________________________________________________\n",
      "block2_conv2 (Conv2D)        (None, 112, 112, 128)     147584    \n",
      "_________________________________________________________________\n",
      "block2_pool (MaxPooling2D)   (None, 56, 56, 128)       0         \n",
      "_________________________________________________________________\n",
      "block3_conv1 (Conv2D)        (None, 56, 56, 256)       295168    \n",
      "_________________________________________________________________\n",
      "block3_conv2 (Conv2D)        (None, 56, 56, 256)       590080    \n",
      "_________________________________________________________________\n",
      "block3_conv3 (Conv2D)        (None, 56, 56, 256)       590080    \n",
      "_________________________________________________________________\n",
      "block3_pool (MaxPooling2D)   (None, 28, 28, 256)       0         \n",
      "_________________________________________________________________\n",
      "block4_conv1 (Conv2D)        (None, 28, 28, 512)       1180160   \n",
      "_________________________________________________________________\n",
      "block4_conv2 (Conv2D)        (None, 28, 28, 512)       2359808   \n",
      "_________________________________________________________________\n",
      "block4_conv3 (Conv2D)        (None, 28, 28, 512)       2359808   \n",
      "_________________________________________________________________\n",
      "block4_pool (MaxPooling2D)   (None, 14, 14, 512)       0         \n",
      "_________________________________________________________________\n",
      "block5_conv1 (Conv2D)        (None, 14, 14, 512)       2359808   \n",
      "_________________________________________________________________\n",
      "block5_conv2 (Conv2D)        (None, 14, 14, 512)       2359808   \n",
      "_________________________________________________________________\n",
      "block5_conv3 (Conv2D)        (None, 14, 14, 512)       2359808   \n",
      "_________________________________________________________________\n",
      "block5_pool (MaxPooling2D)   (None, 7, 7, 512)         0         \n",
      "_________________________________________________________________\n",
      "average_pooling2d (AveragePo (None, 1, 1, 512)         0         \n",
      "_________________________________________________________________\n",
      "flatten (Flatten)            (None, 512)               0         \n",
      "_________________________________________________________________\n",
      "dense (Dense)                (None, 64)                32832     \n",
      "_________________________________________________________________\n",
      "dropout (Dropout)            (None, 64)                0         \n",
      "_________________________________________________________________\n",
      "dense_1 (Dense)              (None, 2)                 130       \n",
      "=================================================================\n",
      "Total params: 14,747,650\n",
      "Trainable params: 32,962\n",
      "Non-trainable params: 14,714,688\n",
      "_________________________________________________________________\n"
     ]
    }
   ],
   "source": [
    "model.summary()"
   ]
  },
  {
   "cell_type": "code",
   "execution_count": null,
   "metadata": {
    "colab": {
     "base_uri": "https://localhost:8080/",
     "height": 756
    },
    "colab_type": "code",
    "id": "ghORUnudz3DB",
    "outputId": "25734e55-2822-4f22-90ef-a11ec54b518e"
   },
   "outputs": [
    {
     "name": "stdout",
     "output_type": "stream",
     "text": [
      "Epoch 1/20\n",
      "27/27 [==============================] - 461s 17s/step - loss: 0.5559 - accuracy: 0.7522 - val_loss: 0.4068 - val_accuracy: 0.8315\n",
      "Epoch 2/20\n",
      "27/27 [==============================] - 457s 17s/step - loss: 0.3931 - accuracy: 0.8239 - val_loss: 0.3499 - val_accuracy: 0.8315\n",
      "Epoch 3/20\n",
      "27/27 [==============================] - 458s 17s/step - loss: 0.3418 - accuracy: 0.8421 - val_loss: 0.3124 - val_accuracy: 0.8370\n",
      "Epoch 4/20\n",
      "27/27 [==============================] - 459s 17s/step - loss: 0.3127 - accuracy: 0.8565 - val_loss: 0.2855 - val_accuracy: 0.8840\n",
      "Epoch 5/20\n",
      "27/27 [==============================] - 459s 17s/step - loss: 0.3013 - accuracy: 0.8689 - val_loss: 0.2680 - val_accuracy: 0.8812\n",
      "Epoch 6/20\n",
      "27/27 [==============================] - 458s 17s/step - loss: 0.2762 - accuracy: 0.8890 - val_loss: 0.2478 - val_accuracy: 0.8895\n",
      "Epoch 7/20\n",
      "27/27 [==============================] - 459s 17s/step - loss: 0.2760 - accuracy: 0.8775 - val_loss: 0.2397 - val_accuracy: 0.8978\n",
      "Epoch 8/20\n",
      "27/27 [==============================] - 470s 17s/step - loss: 0.2604 - accuracy: 0.8852 - val_loss: 0.2350 - val_accuracy: 0.9088\n",
      "Epoch 9/20\n",
      "27/27 [==============================] - 463s 17s/step - loss: 0.2516 - accuracy: 0.8900 - val_loss: 0.2259 - val_accuracy: 0.9116\n",
      "Epoch 10/20\n",
      "27/27 [==============================] - 458s 17s/step - loss: 0.2514 - accuracy: 0.8919 - val_loss: 0.2122 - val_accuracy: 0.9116\n",
      "Epoch 11/20\n",
      "27/27 [==============================] - 459s 17s/step - loss: 0.2382 - accuracy: 0.8986 - val_loss: 0.2151 - val_accuracy: 0.9144\n",
      "Epoch 12/20\n",
      "27/27 [==============================] - 460s 17s/step - loss: 0.2396 - accuracy: 0.8909 - val_loss: 0.2072 - val_accuracy: 0.9227\n",
      "Epoch 13/20\n",
      "27/27 [==============================] - 459s 17s/step - loss: 0.2420 - accuracy: 0.8938 - val_loss: 0.2100 - val_accuracy: 0.9116\n",
      "Epoch 14/20\n",
      "27/27 [==============================] - 458s 17s/step - loss: 0.2342 - accuracy: 0.8995 - val_loss: 0.1904 - val_accuracy: 0.9199\n",
      "Epoch 15/20\n",
      "27/27 [==============================] - 458s 17s/step - loss: 0.2325 - accuracy: 0.8967 - val_loss: 0.1978 - val_accuracy: 0.9227\n",
      "Epoch 16/20\n",
      "27/27 [==============================] - 460s 17s/step - loss: 0.2192 - accuracy: 0.9139 - val_loss: 0.1823 - val_accuracy: 0.9227\n",
      "Epoch 17/20\n",
      "27/27 [==============================] - 466s 17s/step - loss: 0.2247 - accuracy: 0.9033 - val_loss: 0.1783 - val_accuracy: 0.9282\n",
      "Epoch 18/20\n",
      "27/27 [==============================] - 460s 17s/step - loss: 0.2170 - accuracy: 0.9120 - val_loss: 0.1804 - val_accuracy: 0.9199\n",
      "Epoch 19/20\n",
      "27/27 [==============================] - 460s 17s/step - loss: 0.2064 - accuracy: 0.9072 - val_loss: 0.1720 - val_accuracy: 0.9282\n",
      "Epoch 20/20\n",
      "27/27 [==============================] - 459s 17s/step - loss: 0.2091 - accuracy: 0.9139 - val_loss: 0.1688 - val_accuracy: 0.9254\n"
     ]
    }
   ],
   "source": [
    "EPOCHS = 20\n",
    "BS = 40\n",
    "H = model.fit(\n",
    "\ttrainAug.flow(X_train, y_train, batch_size=BS),\n",
    "\tsteps_per_epoch=len(X_train) // BS,\n",
    "\tvalidation_data=(X_test, y_test),\n",
    "\tvalidation_steps=len(X_test) // BS,\n",
    "\tepochs=EPOCHS)"
   ]
  },
  {
   "cell_type": "code",
   "execution_count": null,
   "metadata": {
    "colab": {},
    "colab_type": "code",
    "id": "4COFxhP-0T8_"
   },
   "outputs": [],
   "source": [
    "preds = model.predict(X_test, batch_size=BS)\n",
    "pred = np.argmax(preds, axis=1)"
   ]
  },
  {
   "cell_type": "code",
   "execution_count": null,
   "metadata": {
    "colab": {
     "base_uri": "https://localhost:8080/",
     "height": 313
    },
    "colab_type": "code",
    "id": "dkW1QM6tnor2",
    "outputId": "25a3cce9-293e-4849-8683-42f6db819538"
   },
   "outputs": [
    {
     "name": "stdout",
     "output_type": "stream",
     "text": [
      "dict_keys(['loss', 'accuracy', 'val_loss', 'val_accuracy'])\n"
     ]
    },
    {
     "data": {
      "image/png": "[encoded data removed]",
      "text/plain": [
       "<Figure size 432x288 with 1 Axes>"
      ]
     },
     "metadata": {
      "needs_background": "light",
      "tags": []
     },
     "output_type": "display_data"
    }
   ],
   "source": [
    "# list all data in history\n",
    "print(H.history.keys())\n",
    "\n",
    "# summarize history for accuracy\n",
    "plt.plot(H.history['accuracy'])\n",
    "plt.plot(H.history['val_accuracy'])\n",
    "plt.title('model accuracy')\n",
    "plt.ylabel('accuracy')\n",
    "plt.xlabel('epoch')\n",
    "plt.legend(['train', 'test'], loc='upper left')\n",
    "plt.show()\n"
   ]
  },
  {
   "cell_type": "code",
   "execution_count": null,
   "metadata": {
    "colab": {
     "base_uri": "https://localhost:8080/",
     "height": 295
    },
    "colab_type": "code",
    "id": "TdTNYp2_oCF_",
    "outputId": "75b59dca-e904-4e3b-c27d-fd7efe51890f"
   },
   "outputs": [
    {
     "data": {
      "image/png": "[encoded data removed]",
      "text/plain": [
       "<Figure size 432x288 with 1 Axes>"
      ]
     },
     "metadata": {
      "needs_background": "light",
      "tags": []
     },
     "output_type": "display_data"
    }
   ],
   "source": [
    "# summarize history for loss\n",
    "plt.plot(H.history['loss'])\n",
    "plt.plot(H.history['val_loss'])\n",
    "plt.title('model loss')\n",
    "plt.ylabel('loss')\n",
    "plt.xlabel('epoch')\n",
    "plt.legend(['train', 'test'], loc='upper left')\n",
    "plt.show()"
   ]
  },
  {
   "cell_type": "code",
   "execution_count": null,
   "metadata": {
    "colab": {
     "base_uri": "https://localhost:8080/",
     "height": 320
    },
    "colab_type": "code",
    "id": "PwUbxGSUr7uH",
    "outputId": "39954a3c-3383-479c-de89-068d2eed1947"
   },
   "outputs": [
    {
     "name": "stdout",
     "output_type": "stream",
     "text": [
      "12/12 - 109s - loss: 0.1688 - accuracy: 0.9254\n",
      "0.9254143834114075\n"
     ]
    },
    {
     "data": {
      "image/png": "[encoded data removed]",
      "text/plain": [
       "<Figure size 432x288 with 1 Axes>"
      ]
     },
     "metadata": {
      "needs_background": "light",
      "tags": []
     },
     "output_type": "display_data"
    }
   ],
   "source": [
    " #Evalutaion of Model \n",
    "plt.plot(H.history['accuracy'], label='accuracy')\n",
    "plt.plot(H.history['val_accuracy'], label = 'val_accuracy')\n",
    "plt.xlabel('Epoch')\n",
    "plt.ylabel('Accuracy')\n",
    "plt.ylim([0.5, 1])\n",
    "plt.legend(loc='lower right')\n",
    "\n",
    "test_loss, test_acc = model.evaluate(X_test,y_test,verbose=2)\n",
    "print(test_acc)"
   ]
  },
  {
   "cell_type": "code",
   "execution_count": null,
   "metadata": {
    "colab": {},
    "colab_type": "code",
    "id": "er2uoVt2oAUe"
   },
   "outputs": [],
   "source": [
    "model.save(filepath='infection.h5',save_format=\"h5\")"
   ]
  },
  {
   "cell_type": "code",
   "execution_count": null,
   "metadata": {
    "colab": {},
    "colab_type": "code",
    "id": "BrhrxTlEo0ee"
   },
   "outputs": [],
   "source": [
    "# predict on a single image for infected\n",
    "loaded_model = tf.keras.models.load_model('infection.h5')\n",
    "to_predict = cv2.imread('test_covid.jpeg')\n",
    "imge = cv2.cvtColor(to_predict,cv2.COLOR_BGR2RGB)\n",
    "resized = cv2.resize(imge,(224,224), interpolation = cv2.INTER_AREA)\n",
    "pred_img = np.array(resized) / 255.0\n",
    "pred_img = pred_img.reshape((1,224,224,3))\n",
    "preds = loaded_model.predict(pred_img,batch_size=1)\n",
    "pred = np.argmax(preds, axis=1)\n",
    "if pred == 1:\n",
    "    result = 'Infected'\n",
    "else:\n",
    "    result = 'Normal'"
   ]
  },
  {
   "cell_type": "code",
   "execution_count": null,
   "metadata": {
    "colab": {
     "base_uri": "https://localhost:8080/",
     "height": 281
    },
    "colab_type": "code",
    "id": "91lSnWKcpLnx",
    "outputId": "d671877b-a81d-49e4-d7b4-78487404a361"
   },
   "outputs": [
    {
     "data": {
      "image/png": "[encoded data removed]",
      "text/plain": [
       "<Figure size 432x288 with 1 Axes>"
      ]
     },
     "metadata": {
      "needs_background": "light",
      "tags": []
     },
     "output_type": "display_data"
    }
   ],
   "source": [
    "plt.imshow(to_predict,'gray')\n",
    "plt.title('Result: '+ str(result))\n",
    "plt.show()"
   ]
  },
  {
   "cell_type": "code",
   "execution_count": null,
   "metadata": {
    "colab": {
     "base_uri": "https://localhost:8080/",
     "height": 281
    },
    "colab_type": "code",
    "id": "NxlJb0yRpOMk",
    "outputId": "186b4a7d-3856-45a4-9057-5ab381e4ee59"
   },
   "outputs": [
    {
     "data": {
      "image/png": "[encoded data removed]",
      "text/plain": [
       "<Figure size 432x288 with 1 Axes>"
      ]
     },
     "metadata": {
      "needs_background": "light",
      "tags": []
     },
     "output_type": "display_data"
    }
   ],
   "source": [
    "# predict on a single image for normal:\n",
    "to_predict = cv2.imread('test_no_covid.jpeg')\n",
    "imge = cv2.cvtColor(to_predict,cv2.COLOR_BGR2RGB)\n",
    "resized = cv2.resize(imge,(224,224), interpolation = cv2.INTER_AREA)\n",
    "pred_img = np.array(resized) / 255.0\n",
    "pred_img = pred_img.reshape((1,224,224,3))\n",
    "preds = loaded_model.predict(pred_img,batch_size=1)\n",
    "pred = np.argmax(preds, axis=1)\n",
    "if pred == 1:\n",
    "    result = 'Normal'\n",
    "else:\n",
    "    result = 'Infected'\n",
    "plt.imshow(to_predict,'gray')\n",
    "plt.title('Result: '+ str(result))\n",
    "plt.show()"
   ]
  },
  {
   "cell_type": "code",
   "execution_count": null,
   "metadata": {
    "colab": {
     "base_uri": "https://localhost:8080/",
     "height": 319
    },
    "colab_type": "code",
    "id": "Px3m4GyfpaWi",
    "outputId": "58e42e04-00a3-4db2-9f40-58b084646121"
   },
   "outputs": [
    {
     "name": "stdout",
     "output_type": "stream",
     "text": [
      "Please enter the name of the image for testing infection:\n",
      "WhatsApp Image 2020-06-04 at 11.12.19 AM.jpeg\n",
      "The patience has symptoms of infection.\n"
     ]
    },
    {
     "data": {
      "image/png": "[encoded data removed]",
      "text/plain": [
       "<Figure size 432x288 with 1 Axes>"
      ]
     },
     "metadata": {
      "needs_background": "light",
      "tags": []
     },
     "output_type": "display_data"
    }
   ],
   "source": [
    "  #model code: \n",
    "import cv2\n",
    "import tensorflow as tf\n",
    "import matplotlib.pyplot as plt\n",
    "import numpy as np\n",
    "import os\n",
    "\n",
    "print('Please enter the name of the image for testing infection:')\n",
    "user_input = input()\n",
    "loaded_model = tf.keras.models.load_model('infection.h5')\n",
    "to_predict = cv2.imread(str(user_input))\n",
    "imge = cv2.cvtColor(to_predict,cv2.COLOR_BGR2RGB)\n",
    "resized = cv2.resize(imge,(224,224), interpolation = cv2.INTER_AREA)\n",
    "pred_img = np.array(resized) / 255.0\n",
    "pred_img = pred_img.reshape((1,224,224,3))\n",
    "preds = loaded_model.predict(pred_img,batch_size=1)\n",
    "pred = np.argmax(preds, axis=1)\n",
    "\n",
    "os.system('clear')\n",
    "if pred == 1:\n",
    "    result = 'Infected'\n",
    "    print('The patience has symptoms of infection.')\n",
    "else:\n",
    "    result = 'Normal'\n",
    "plt.imshow(to_predict,'gray')\n",
    "plt.title('Result: '+ str(result))\n",
    "plt.axis('off')\n",
    "plt.show()"
   ]
  },
  {
   "cell_type": "code",
   "execution_count": null,
   "metadata": {
    "colab": {},
    "colab_type": "code",
    "id": "ssk5_AR8pyaE"
   },
   "outputs": [],
   "source": []
  }
 ],
 "metadata": {
  "colab": {
   "collapsed_sections": [],
   "name": "InfectedVsNormal",
   "provenance": []
  },
  "kernelspec": {
   "display_name": "Python 3",
   "language": "python",
   "name": "python3"
  },
  "language_info": {
   "codemirror_mode": {
    "name": "ipython",
    "version": 3
   },
   "file_extension": ".py",
   "mimetype": "text/x-python",
   "name": "python",
   "nbconvert_exporter": "python",
   "pygments_lexer": "ipython3",
   "version": "3.8.3"
  }
 },
 "nbformat": 4,
 "nbformat_minor": 1
}
